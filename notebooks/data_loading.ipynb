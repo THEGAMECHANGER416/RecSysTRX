{
 "cells": [
  {
   "cell_type": "code",
   "execution_count": 1,
   "id": "33edfe9c",
   "metadata": {},
   "outputs": [
    {
     "name": "stderr",
     "output_type": "stream",
     "text": [
      "\n",
      "A module that was compiled using NumPy 1.x cannot be run in\n",
      "NumPy 2.2.5 as it may crash. To support both 1.x and 2.x\n",
      "versions of NumPy, modules must be compiled with NumPy 2.0.\n",
      "Some module may need to rebuild instead e.g. with 'pybind11>=2.12'.\n",
      "\n",
      "If you are a user of the module, the easiest solution will be to\n",
      "downgrade to 'numpy<2' or try to upgrade the affected module.\n",
      "We expect that some modules will need time to support NumPy 2.\n",
      "\n",
      "Traceback (most recent call last):  File \"C:\\Program Files\\Python310\\lib\\runpy.py\", line 196, in _run_module_as_main\n",
      "    return _run_code(code, main_globals, None,\n",
      "  File \"C:\\Program Files\\Python310\\lib\\runpy.py\", line 86, in _run_code\n",
      "    exec(code, run_globals)\n",
      "  File \"c:\\Users\\arnav\\Documents\\VSCodeProjects\\RecSysTRX\\RecSysTRX\\.venv\\lib\\site-packages\\ipykernel_launcher.py\", line 18, in <module>\n",
      "    app.launch_new_instance()\n",
      "  File \"c:\\Users\\arnav\\Documents\\VSCodeProjects\\RecSysTRX\\RecSysTRX\\.venv\\lib\\site-packages\\traitlets\\config\\application.py\", line 1075, in launch_instance\n",
      "    app.start()\n",
      "  File \"c:\\Users\\arnav\\Documents\\VSCodeProjects\\RecSysTRX\\RecSysTRX\\.venv\\lib\\site-packages\\ipykernel\\kernelapp.py\", line 739, in start\n",
      "    self.io_loop.start()\n",
      "  File \"c:\\Users\\arnav\\Documents\\VSCodeProjects\\RecSysTRX\\RecSysTRX\\.venv\\lib\\site-packages\\tornado\\platform\\asyncio.py\", line 205, in start\n",
      "    self.asyncio_loop.run_forever()\n",
      "  File \"C:\\Program Files\\Python310\\lib\\asyncio\\base_events.py\", line 603, in run_forever\n",
      "    self._run_once()\n",
      "  File \"C:\\Program Files\\Python310\\lib\\asyncio\\base_events.py\", line 1909, in _run_once\n",
      "    handle._run()\n",
      "  File \"C:\\Program Files\\Python310\\lib\\asyncio\\events.py\", line 80, in _run\n",
      "    self._context.run(self._callback, *self._args)\n",
      "  File \"c:\\Users\\arnav\\Documents\\VSCodeProjects\\RecSysTRX\\RecSysTRX\\.venv\\lib\\site-packages\\ipykernel\\kernelbase.py\", line 545, in dispatch_queue\n",
      "    await self.process_one()\n",
      "  File \"c:\\Users\\arnav\\Documents\\VSCodeProjects\\RecSysTRX\\RecSysTRX\\.venv\\lib\\site-packages\\ipykernel\\kernelbase.py\", line 534, in process_one\n",
      "    await dispatch(*args)\n",
      "  File \"c:\\Users\\arnav\\Documents\\VSCodeProjects\\RecSysTRX\\RecSysTRX\\.venv\\lib\\site-packages\\ipykernel\\kernelbase.py\", line 437, in dispatch_shell\n",
      "    await result\n",
      "  File \"c:\\Users\\arnav\\Documents\\VSCodeProjects\\RecSysTRX\\RecSysTRX\\.venv\\lib\\site-packages\\ipykernel\\ipkernel.py\", line 362, in execute_request\n",
      "    await super().execute_request(stream, ident, parent)\n",
      "  File \"c:\\Users\\arnav\\Documents\\VSCodeProjects\\RecSysTRX\\RecSysTRX\\.venv\\lib\\site-packages\\ipykernel\\kernelbase.py\", line 778, in execute_request\n",
      "    reply_content = await reply_content\n",
      "  File \"c:\\Users\\arnav\\Documents\\VSCodeProjects\\RecSysTRX\\RecSysTRX\\.venv\\lib\\site-packages\\ipykernel\\ipkernel.py\", line 449, in do_execute\n",
      "    res = shell.run_cell(\n",
      "  File \"c:\\Users\\arnav\\Documents\\VSCodeProjects\\RecSysTRX\\RecSysTRX\\.venv\\lib\\site-packages\\ipykernel\\zmqshell.py\", line 549, in run_cell\n",
      "    return super().run_cell(*args, **kwargs)\n",
      "  File \"c:\\Users\\arnav\\Documents\\VSCodeProjects\\RecSysTRX\\RecSysTRX\\.venv\\lib\\site-packages\\IPython\\core\\interactiveshell.py\", line 3077, in run_cell\n",
      "    result = self._run_cell(\n",
      "  File \"c:\\Users\\arnav\\Documents\\VSCodeProjects\\RecSysTRX\\RecSysTRX\\.venv\\lib\\site-packages\\IPython\\core\\interactiveshell.py\", line 3132, in _run_cell\n",
      "    result = runner(coro)\n",
      "  File \"c:\\Users\\arnav\\Documents\\VSCodeProjects\\RecSysTRX\\RecSysTRX\\.venv\\lib\\site-packages\\IPython\\core\\async_helpers.py\", line 128, in _pseudo_sync_runner\n",
      "    coro.send(None)\n",
      "  File \"c:\\Users\\arnav\\Documents\\VSCodeProjects\\RecSysTRX\\RecSysTRX\\.venv\\lib\\site-packages\\IPython\\core\\interactiveshell.py\", line 3336, in run_cell_async\n",
      "    has_raised = await self.run_ast_nodes(code_ast.body, cell_name,\n",
      "  File \"c:\\Users\\arnav\\Documents\\VSCodeProjects\\RecSysTRX\\RecSysTRX\\.venv\\lib\\site-packages\\IPython\\core\\interactiveshell.py\", line 3519, in run_ast_nodes\n",
      "    if await self.run_code(code, result, async_=asy):\n",
      "  File \"c:\\Users\\arnav\\Documents\\VSCodeProjects\\RecSysTRX\\RecSysTRX\\.venv\\lib\\site-packages\\IPython\\core\\interactiveshell.py\", line 3579, in run_code\n",
      "    exec(code_obj, self.user_global_ns, self.user_ns)\n",
      "  File \"C:\\Users\\arnav\\AppData\\Local\\Temp\\ipykernel_19904\\4208075845.py\", line 3, in <module>\n",
      "    import torch\n",
      "  File \"c:\\Users\\arnav\\Documents\\VSCodeProjects\\RecSysTRX\\RecSysTRX\\.venv\\lib\\site-packages\\torch\\__init__.py\", line 1471, in <module>\n",
      "    from .functional import *  # noqa: F403\n",
      "  File \"c:\\Users\\arnav\\Documents\\VSCodeProjects\\RecSysTRX\\RecSysTRX\\.venv\\lib\\site-packages\\torch\\functional.py\", line 9, in <module>\n",
      "    import torch.nn.functional as F\n",
      "  File \"c:\\Users\\arnav\\Documents\\VSCodeProjects\\RecSysTRX\\RecSysTRX\\.venv\\lib\\site-packages\\torch\\nn\\__init__.py\", line 1, in <module>\n",
      "    from .modules import *  # noqa: F403\n",
      "  File \"c:\\Users\\arnav\\Documents\\VSCodeProjects\\RecSysTRX\\RecSysTRX\\.venv\\lib\\site-packages\\torch\\nn\\modules\\__init__.py\", line 35, in <module>\n",
      "    from .transformer import TransformerEncoder, TransformerDecoder, \\\n",
      "  File \"c:\\Users\\arnav\\Documents\\VSCodeProjects\\RecSysTRX\\RecSysTRX\\.venv\\lib\\site-packages\\torch\\nn\\modules\\transformer.py\", line 20, in <module>\n",
      "    device: torch.device = torch.device(torch._C._get_default_device()),  # torch.device('cpu'),\n",
      "c:\\Users\\arnav\\Documents\\VSCodeProjects\\RecSysTRX\\RecSysTRX\\.venv\\lib\\site-packages\\torch\\nn\\modules\\transformer.py:20: UserWarning: Failed to initialize NumPy: _ARRAY_API not found (Triggered internally at ..\\torch\\csrc\\utils\\tensor_numpy.cpp:84.)\n",
      "  device: torch.device = torch.device(torch._C._get_default_device()),  # torch.device('cpu'),\n"
     ]
    }
   ],
   "source": [
    "import numpy as np\n",
    "import polars as pl\n",
    "import torch\n",
    "from torch import nn, functional as F"
   ]
  },
  {
   "cell_type": "markdown",
   "id": "cee2d446",
   "metadata": {},
   "source": [
    "### Get the movielens and tmdb dataset"
   ]
  },
  {
   "cell_type": "code",
   "execution_count": null,
   "id": "2bd844de",
   "metadata": {},
   "outputs": [],
   "source": [
    "from zipfile import ZipFile\n",
    "from urllib.request import urlretrieve\n",
    "import os\n",
    "\n",
    "urlretrieve(\"https://files.grouplens.org/datasets/movielens/ml-32m.zip\", \"../data/movielens.zip\")\n",
    "ZipFile(\"../data/movielens.zip\", \"r\").extractall('../data/')\n",
    "os.remove('../data/movielens.zip')\n",
    "\n",
    "urlretrieve(\"https://www.kaggle.com/api/v1/datasets/download/asaniczka/tmdb-movies-dataset-2023-930k-movies\", \"../data/tmdb.zip\")\n",
    "ZipFile(\"../data/tmdb.zip\", \"r\").extractall('../data/tmdb_dataset/')\n",
    "os.remove('../data/tmdb.zip')"
   ]
  },
  {
   "cell_type": "markdown",
   "id": "c232abfe",
   "metadata": {},
   "source": [
    "### Dataset cleaning and preparation"
   ]
  },
  {
   "cell_type": "code",
   "execution_count": 2,
   "id": "b177b4bb",
   "metadata": {},
   "outputs": [],
   "source": [
    "movies_df = pl.read_csv('../data/tmdb_dataset/TMDB_movie_dataset_v11.csv')\n",
    "ratings_df = pl.read_csv('../data/ml-32m/ratings.csv')\n",
    "links_df = pl.read_csv('../data/ml-32m/links.csv')"
   ]
  },
  {
   "cell_type": "code",
   "execution_count": 3,
   "id": "e61d3346",
   "metadata": {},
   "outputs": [
    {
     "data": {
      "text/html": [
       "<div><style>\n",
       ".dataframe > thead > tr,\n",
       ".dataframe > tbody > tr {\n",
       "  text-align: right;\n",
       "  white-space: pre-wrap;\n",
       "}\n",
       "</style>\n",
       "<small>shape: (5, 4)</small><table border=\"1\" class=\"dataframe\"><thead><tr><th>userId</th><th>movieId</th><th>rating</th><th>timestamp</th></tr><tr><td>i64</td><td>i64</td><td>f64</td><td>i64</td></tr></thead><tbody><tr><td>1</td><td>17</td><td>4.0</td><td>944249077</td></tr><tr><td>1</td><td>25</td><td>1.0</td><td>944250228</td></tr><tr><td>1</td><td>29</td><td>2.0</td><td>943230976</td></tr><tr><td>1</td><td>30</td><td>5.0</td><td>944249077</td></tr><tr><td>1</td><td>32</td><td>5.0</td><td>943228858</td></tr></tbody></table></div>"
      ],
      "text/plain": [
       "shape: (5, 4)\n",
       "┌────────┬─────────┬────────┬───────────┐\n",
       "│ userId ┆ movieId ┆ rating ┆ timestamp │\n",
       "│ ---    ┆ ---     ┆ ---    ┆ ---       │\n",
       "│ i64    ┆ i64     ┆ f64    ┆ i64       │\n",
       "╞════════╪═════════╪════════╪═══════════╡\n",
       "│ 1      ┆ 17      ┆ 4.0    ┆ 944249077 │\n",
       "│ 1      ┆ 25      ┆ 1.0    ┆ 944250228 │\n",
       "│ 1      ┆ 29      ┆ 2.0    ┆ 943230976 │\n",
       "│ 1      ┆ 30      ┆ 5.0    ┆ 944249077 │\n",
       "│ 1      ┆ 32      ┆ 5.0    ┆ 943228858 │\n",
       "└────────┴─────────┴────────┴───────────┘"
      ]
     },
     "execution_count": 3,
     "metadata": {},
     "output_type": "execute_result"
    }
   ],
   "source": [
    "ratings_df.head()"
   ]
  },
  {
   "cell_type": "code",
   "execution_count": 4,
   "id": "bc06e091",
   "metadata": {},
   "outputs": [
    {
     "data": {
      "text/html": [
       "<div><style>\n",
       ".dataframe > thead > tr,\n",
       ".dataframe > tbody > tr {\n",
       "  text-align: right;\n",
       "  white-space: pre-wrap;\n",
       "}\n",
       "</style>\n",
       "<small>shape: (5, 19)</small><table border=\"1\" class=\"dataframe\"><thead><tr><th>movieId</th><th>tmdbId</th><th>vote_average</th><th>vote_count</th><th>release_date</th><th>revenue</th><th>runtime</th><th>adult</th><th>budget</th><th>original_language</th><th>original_title</th><th>overview</th><th>popularity</th><th>tagline</th><th>genres</th><th>production_companies</th><th>production_countries</th><th>spoken_languages</th><th>keywords</th></tr><tr><td>i64</td><td>i64</td><td>f64</td><td>i64</td><td>str</td><td>i64</td><td>i64</td><td>bool</td><td>i64</td><td>str</td><td>str</td><td>str</td><td>f64</td><td>str</td><td>str</td><td>str</td><td>str</td><td>str</td><td>str</td></tr></thead><tbody><tr><td>79132</td><td>27205</td><td>8.364</td><td>34495</td><td>&quot;2010-07-15&quot;</td><td>825532764</td><td>148</td><td>false</td><td>160000000</td><td>&quot;en&quot;</td><td>&quot;Inception&quot;</td><td>&quot;Cobb, a skilled thief who comm…</td><td>83.952</td><td>&quot;Your mind is the scene of the …</td><td>&quot;Action, Science Fiction, Adven…</td><td>&quot;Legendary Pictures, Syncopy, W…</td><td>&quot;United Kingdom, United States …</td><td>&quot;English, French, Japanese, Swa…</td><td>&quot;rescue, mission, dream, airpla…</td></tr><tr><td>109487</td><td>157336</td><td>8.417</td><td>32571</td><td>&quot;2014-11-05&quot;</td><td>701729206</td><td>169</td><td>false</td><td>165000000</td><td>&quot;en&quot;</td><td>&quot;Interstellar&quot;</td><td>&quot;The adventures of a group of e…</td><td>140.241</td><td>&quot;Mankind was born on Earth. It …</td><td>&quot;Adventure, Drama, Science Fict…</td><td>&quot;Legendary Pictures, Syncopy, L…</td><td>&quot;United Kingdom, United States …</td><td>&quot;English&quot;</td><td>&quot;rescue, future, spacecraft, ra…</td></tr><tr><td>58559</td><td>155</td><td>8.512</td><td>30619</td><td>&quot;2008-07-16&quot;</td><td>1004558444</td><td>152</td><td>false</td><td>185000000</td><td>&quot;en&quot;</td><td>&quot;The Dark Knight&quot;</td><td>&quot;Batman raises the stakes in hi…</td><td>130.643</td><td>&quot;Welcome to a world without rul…</td><td>&quot;Drama, Action, Crime, Thriller&quot;</td><td>&quot;DC Comics, Legendary Pictures,…</td><td>&quot;United Kingdom, United States …</td><td>&quot;English, Mandarin&quot;</td><td>&quot;joker, sadism, chaos, secret i…</td></tr><tr><td>72998</td><td>19995</td><td>7.573</td><td>29815</td><td>&quot;2009-12-15&quot;</td><td>2923706026</td><td>162</td><td>false</td><td>237000000</td><td>&quot;en&quot;</td><td>&quot;Avatar&quot;</td><td>&quot;In the 22nd century, a paraple…</td><td>79.932</td><td>&quot;Enter the world of Pandora.&quot;</td><td>&quot;Action, Adventure, Fantasy, Sc…</td><td>&quot;Dune Entertainment, Lightstorm…</td><td>&quot;United States of America, Unit…</td><td>&quot;English, Spanish&quot;</td><td>&quot;future, society, culture clash…</td></tr><tr><td>89745</td><td>24428</td><td>7.71</td><td>29166</td><td>&quot;2012-04-25&quot;</td><td>1518815515</td><td>143</td><td>false</td><td>220000000</td><td>&quot;en&quot;</td><td>&quot;The Avengers&quot;</td><td>&quot;When an unexpected enemy emerg…</td><td>98.082</td><td>&quot;Some assembly required.&quot;</td><td>&quot;Science Fiction, Action, Adven…</td><td>&quot;Marvel Studios&quot;</td><td>&quot;United States of America&quot;</td><td>&quot;English, Hindi, Russian&quot;</td><td>&quot;new york city, superhero, shie…</td></tr></tbody></table></div>"
      ],
      "text/plain": [
       "shape: (5, 19)\n",
       "┌─────────┬────────┬────────────┬────────────┬───┬────────────┬────────────┬───────────┬───────────┐\n",
       "│ movieId ┆ tmdbId ┆ vote_avera ┆ vote_count ┆ … ┆ production ┆ production ┆ spoken_la ┆ keywords  │\n",
       "│ ---     ┆ ---    ┆ ge         ┆ ---        ┆   ┆ _companies ┆ _countries ┆ nguages   ┆ ---       │\n",
       "│ i64     ┆ i64    ┆ ---        ┆ i64        ┆   ┆ ---        ┆ ---        ┆ ---       ┆ str       │\n",
       "│         ┆        ┆ f64        ┆            ┆   ┆ str        ┆ str        ┆ str       ┆           │\n",
       "╞═════════╪════════╪════════════╪════════════╪═══╪════════════╪════════════╪═══════════╪═══════════╡\n",
       "│ 79132   ┆ 27205  ┆ 8.364      ┆ 34495      ┆ … ┆ Legendary  ┆ United     ┆ English,  ┆ rescue,   │\n",
       "│         ┆        ┆            ┆            ┆   ┆ Pictures,  ┆ Kingdom,   ┆ French,   ┆ mission,  │\n",
       "│         ┆        ┆            ┆            ┆   ┆ Syncopy,   ┆ United     ┆ Japanese, ┆ dream,    │\n",
       "│         ┆        ┆            ┆            ┆   ┆ W…         ┆ States …   ┆ Swa…      ┆ airpla…   │\n",
       "│ 109487  ┆ 157336 ┆ 8.417      ┆ 32571      ┆ … ┆ Legendary  ┆ United     ┆ English   ┆ rescue,   │\n",
       "│         ┆        ┆            ┆            ┆   ┆ Pictures,  ┆ Kingdom,   ┆           ┆ future,   │\n",
       "│         ┆        ┆            ┆            ┆   ┆ Syncopy,   ┆ United     ┆           ┆ spacecraf │\n",
       "│         ┆        ┆            ┆            ┆   ┆ L…         ┆ States …   ┆           ┆ t, ra…    │\n",
       "│ 58559   ┆ 155    ┆ 8.512      ┆ 30619      ┆ … ┆ DC Comics, ┆ United     ┆ English,  ┆ joker,    │\n",
       "│         ┆        ┆            ┆            ┆   ┆ Legendary  ┆ Kingdom,   ┆ Mandarin  ┆ sadism,   │\n",
       "│         ┆        ┆            ┆            ┆   ┆ Pictures,… ┆ United     ┆           ┆ chaos,    │\n",
       "│         ┆        ┆            ┆            ┆   ┆            ┆ States …   ┆           ┆ secret i… │\n",
       "│ 72998   ┆ 19995  ┆ 7.573      ┆ 29815      ┆ … ┆ Dune Enter ┆ United     ┆ English,  ┆ future,   │\n",
       "│         ┆        ┆            ┆            ┆   ┆ tainment,  ┆ States of  ┆ Spanish   ┆ society,  │\n",
       "│         ┆        ┆            ┆            ┆   ┆ Lightstorm ┆ America,   ┆           ┆ culture   │\n",
       "│         ┆        ┆            ┆            ┆   ┆ …          ┆ Unit…      ┆           ┆ clash…    │\n",
       "│ 89745   ┆ 24428  ┆ 7.71       ┆ 29166      ┆ … ┆ Marvel     ┆ United     ┆ English,  ┆ new york  │\n",
       "│         ┆        ┆            ┆            ┆   ┆ Studios    ┆ States of  ┆ Hindi,    ┆ city, sup │\n",
       "│         ┆        ┆            ┆            ┆   ┆            ┆ America    ┆ Russian   ┆ erhero,   │\n",
       "│         ┆        ┆            ┆            ┆   ┆            ┆            ┆           ┆ shie…     │\n",
       "└─────────┴────────┴────────────┴────────────┴───┴────────────┴────────────┴───────────┴───────────┘"
      ]
     },
     "execution_count": 4,
     "metadata": {},
     "output_type": "execute_result"
    }
   ],
   "source": [
    "movies_df = links_df.join(movies_df,left_on=\"tmdbId\",right_on=\"id\")\n",
    "movies_df = movies_df.drop([\"title\",\"status\",\"backdrop_path\",\"homepage\",\"imdb_id\",\"imdbId\",\"poster_path\"])\n",
    "movies_df.head()"
   ]
  },
  {
   "cell_type": "code",
   "execution_count": 5,
   "id": "55467d4a",
   "metadata": {},
   "outputs": [
    {
     "name": "stdout",
     "output_type": "stream",
     "text": [
      "Number of genres:  39\n",
      "Number of production_companies:  56117\n",
      "Number of production_countries:  358\n",
      "Number of spoken_languages:  287\n",
      "Number of keywords:  33602\n"
     ]
    }
   ],
   "source": [
    "# Building vocab\n",
    "genres = movies_df['genres'].map_elements(lambda x: x.split(','),return_dtype=pl.List(pl.String)).explode().unique().to_list()\n",
    "print(\"Number of genres: \",len(genres))\n",
    "production_companies = movies_df['production_companies'].map_elements(lambda x: x.split(','),return_dtype=pl.List(pl.String)).explode().unique().to_list()\n",
    "print(\"Number of production_companies: \",len(production_companies))\n",
    "production_countries = movies_df['production_countries'].map_elements(lambda x: x.split(','),return_dtype=pl.List(pl.String)).explode().unique().to_list()\n",
    "print(\"Number of production_countries: \",len(production_countries))\n",
    "spoken_languages = movies_df['spoken_languages'].map_elements(lambda x: x.split(','),return_dtype=pl.List(pl.String)).explode().unique().to_list()\n",
    "print(\"Number of spoken_languages: \",len(spoken_languages))\n",
    "keywords = movies_df['keywords'].map_elements(lambda x: x.split(','),return_dtype=pl.List(pl.String)).explode().unique().to_list()\n",
    "print(\"Number of keywords: \",len(keywords))\n"
   ]
  },
  {
   "cell_type": "code",
   "execution_count": 6,
   "id": "233b7239",
   "metadata": {},
   "outputs": [],
   "source": [
    "# convert ids to categorical or string data type\n",
    "movies_df = movies_df.with_columns(\n",
    "    (pl.col(\"movieId\").cast(str)).map_elements(lambda x: f\"movie_{x}\",return_dtype=pl.String).alias(\"movieId\")\n",
    ")\n",
    "\n",
    "ratings_df = ratings_df.with_columns([\n",
    "    (pl.col(\"movieId\").cast(str)).map_elements(lambda x: f\"movie_{x}\",return_dtype=pl.String).alias(\"movieId\"),\n",
    "    (pl.col(\"userId\").cast(str)).map_elements(lambda x: f\"user_{x}\",return_dtype=pl.String).alias(\"userId\"),\n",
    "])\n",
    "\n",
    "ratings_df = ratings_df.with_columns([\n",
    "    pl.col(\"movieId\").cast(pl.Categorical),\n",
    "    pl.col(\"userId\").cast(pl.Categorical),\n",
    "])"
   ]
  },
  {
   "cell_type": "code",
   "execution_count": 7,
   "id": "84d40352",
   "metadata": {},
   "outputs": [],
   "source": [
    "from collections import Counter\n",
    "from torchtext.vocab import vocab\n",
    "\n",
    "# vocab for movie_ids\n",
    "movie_ids = movies_df['movieId'].unique()\n",
    "movie_counter = Counter(movie_ids)\n",
    "movie_vocab = vocab(movie_counter, specials=['<unk>'])\n",
    "movie_vocab_stoi = movie_vocab.get_stoi()\n",
    "movie_title_dict = dict(zip(movies_df['movieId'].to_list(), movies_df['original_title'].to_list()))\n",
    "\n",
    "# vocab for user_ids\n",
    "user_ids = ratings_df['userId'].unique()\n",
    "user_counter = Counter(user_ids)\n",
    "user_vocab = vocab(user_counter, specials=['<unk>'])\n",
    "user_vocab_stoi = user_vocab.get_stoi()"
   ]
  },
  {
   "cell_type": "markdown",
   "id": "764d6a4d",
   "metadata": {},
   "source": [
    "### Using timestamp to generate sequences"
   ]
  },
  {
   "cell_type": "code",
   "execution_count": null,
   "id": "c87d3263",
   "metadata": {},
   "outputs": [
    {
     "name": "stdout",
     "output_type": "stream",
     "text": [
      "shape: (200_948, 2)\n",
      "┌─────────────┬─────────────────────────────────┐\n",
      "│ userId      ┆ sequence                        │\n",
      "│ ---         ┆ ---                             │\n",
      "│ cat         ┆ list[list[cat]]                 │\n",
      "╞═════════════╪═════════════════════════════════╡\n",
      "│ user_1      ┆ [[\"movie_2966\", \"movie_2890\", … │\n",
      "│ user_2      ┆ [[\"movie_380\", \"movie_296\", … … │\n",
      "│ user_3      ┆ [[\"movie_466\", \"movie_2268\", …… │\n",
      "│ user_4      ┆ [[\"movie_1210\", \"movie_1833\", … │\n",
      "│ user_5      ┆ [[\"movie_150\", \"movie_590\", … … │\n",
      "│ …           ┆ …                               │\n",
      "│ user_200944 ┆ [[\"movie_1196\", \"movie_318\", …… │\n",
      "│ user_200945 ┆ [[\"movie_8874\", \"movie_2762\", … │\n",
      "│ user_200946 ┆ [[\"movie_736\", \"movie_95\", … \"… │\n",
      "│ user_200947 ┆ [[\"movie_527\", \"movie_2571\", …… │\n",
      "│ user_200948 ┆ [[\"movie_2616\", \"movie_2431\", … │\n",
      "└─────────────┴─────────────────────────────────┘\n"
     ]
    }
   ],
   "source": [
    "import polars as pl\n",
    "\n",
    "# Parameters\n",
    "sequence_length = 4\n",
    "min_history = 1  # (not used directly here but you can add filtering later)\n",
    "step_size = 2\n",
    "\n",
    "# Sort by user and timestamp\n",
    "filtered_df = ratings_df.sort([\"userId\", \"timestamp\"])\n",
    "\n",
    "# Add index per user\n",
    "filtered_df = filtered_df.with_columns([\n",
    "    pl.col(\"userId\").cum_count().over(\"userId\").alias(\"idx\")\n",
    "])\n",
    "\n",
    "# Generate shifted columns\n",
    "for i in range(sequence_length):\n",
    "    filtered_df = filtered_df.with_columns(\n",
    "        pl.col(\"movieId\").shift(-i).over(\"userId\").alias(f\"movie_{i}\")\n",
    "    )\n",
    "\n",
    "# Filter to every `step_size` rows to get sliding window\n",
    "filtered_df = filtered_df.filter(pl.col(\"idx\") % step_size == 0)\n",
    "\n",
    "# Drop rows where any of the shifted movie columns are null\n",
    "filtered_df = filtered_df.filter(\n",
    "    pl.fold(\n",
    "        acc=pl.lit(True),\n",
    "        function=lambda acc, x: acc & x.is_not_null(),\n",
    "        exprs=[pl.col(f\"movie_{i}\") for i in range(sequence_length)]\n",
    "    )\n",
    ")\n",
    "\n",
    "# Combine into a sequence column\n",
    "filtered_df = filtered_df.with_columns([\n",
    "    pl.concat_list([pl.col(f\"movie_{i}\") for i in range(sequence_length)]).alias(\"sequence\")\n",
    "])\n",
    "\n",
    "# Keep only userId and sequence\n",
    "result = filtered_df.select([\"userId\", \"sequence\"]).group_by(pl.col(\"userId\"),maintain_order=True).agg(pl.col(\"sequence\"))"
   ]
  },
  {
   "cell_type": "code",
   "execution_count": 21,
   "id": "d90394d9",
   "metadata": {},
   "outputs": [
    {
     "name": "stdout",
     "output_type": "stream",
     "text": [
      "[[['movie_2966', 'movie_2890', 'movie_3078', 'movie_2882'], ['movie_3078', 'movie_2882', 'movie_541', 'movie_838'], ['movie_541', 'movie_838', 'movie_1136', 'movie_1211'], ['movie_1136', 'movie_1211', 'movie_1236', 'movie_3030'], ['movie_1236', 'movie_3030', 'movie_2396', 'movie_2918'], ['movie_2396', 'movie_2918', 'movie_1197', 'movie_166'], ['movie_1197', 'movie_166', 'movie_232', 'movie_34'], ['movie_232', 'movie_34', 'movie_1923', 'movie_2324'], ['movie_1923', 'movie_2324', 'movie_2352', 'movie_2724'], ['movie_2352', 'movie_2724', 'movie_2599', 'movie_1288'], ['movie_2599', 'movie_1288', 'movie_1784', 'movie_2336'], ['movie_1784', 'movie_2336', 'movie_260', 'movie_2232'], ['movie_260', 'movie_2232', 'movie_1196', 'movie_2640'], ['movie_1196', 'movie_2640', 'movie_1748', 'movie_1965'], ['movie_1748', 'movie_1965', 'movie_1210', 'movie_32'], ['movie_1210', 'movie_32', 'movie_1199', 'movie_29'], ['movie_1199', 'movie_29', 'movie_1653', 'movie_2529'], ['movie_1653', 'movie_2529', 'movie_2985', 'movie_110'], ['movie_2985', 'movie_110', 'movie_1944', 'movie_527'], ['movie_1944', 'movie_527', 'movie_912', 'movie_356'], ['movie_912', 'movie_356', 'movie_1262', 'movie_2028'], ['movie_1262', 'movie_2028', 'movie_1233', 'movie_1242'], ['movie_1233', 'movie_1242', 'movie_2944', 'movie_161'], ['movie_2944', 'movie_161', 'movie_1178', 'movie_1208'], ['movie_1178', 'movie_1208', 'movie_1204', 'movie_1939'], ['movie_1204', 'movie_1939', 'movie_1090', 'movie_1094'], ['movie_1090', 'movie_1094', 'movie_1960', 'movie_1200'], ['movie_1960', 'movie_1200', 'movie_1272', 'movie_1217'], ['movie_1272', 'movie_1217', 'movie_2067', 'movie_2797'], ['movie_2067', 'movie_2797', 'movie_2247', 'movie_322'], ['movie_2247', 'movie_322', 'movie_1234', 'movie_1304'], ['movie_1234', 'movie_1304', 'movie_1968', 'movie_1297'], ['movie_1968', 'movie_1297', 'movie_3088', 'movie_2109'], ['movie_3088', 'movie_2109', 'movie_2064', 'movie_345'], ['movie_2064', 'movie_345', 'movie_2424', 'movie_916'], ['movie_2424', 'movie_916', 'movie_2690', 'movie_909'], ['movie_2690', 'movie_909', 'movie_2973', 'movie_176'], ['movie_2973', 'movie_176', 'movie_1885', 'movie_1080'], ['movie_1885', 'movie_1080', 'movie_1060', 'movie_933'], ['movie_1060', 'movie_933', 'movie_2243', 'movie_2502'], ['movie_2243', 'movie_2502', 'movie_915', 'movie_1270'], ['movie_915', 'movie_1270', 'movie_1259', 'movie_223'], ['movie_1259', 'movie_223', 'movie_2407', 'movie_562'], ['movie_2407', 'movie_562', 'movie_927', 'movie_1203'], ['movie_927', 'movie_1203', 'movie_306', 'movie_835'], ['movie_306', 'movie_835', 'movie_800', 'movie_593'], ['movie_800', 'movie_593', 'movie_1225', 'movie_1172'], ['movie_1225', 'movie_1172', 'movie_2268', 'movie_608'], ['movie_2268', 'movie_608', 'movie_1276', 'movie_80'], ['movie_1276', 'movie_80', 'movie_111', 'movie_2025'], ['movie_111', 'movie_2025', 'movie_1263', 'movie_1719'], ['movie_1263', 'movie_1719', 'movie_36', 'movie_30'], ['movie_36', 'movie_30', 'movie_17', 'movie_1213'], ['movie_17', 'movie_1213', 'movie_1150', 'movie_1221'], ['movie_1150', 'movie_1221', 'movie_1120', 'movie_1247'], ['movie_1120', 'movie_1247', 'movie_2312', 'movie_1961'], ['movie_2312', 'movie_1961', 'movie_1721', 'movie_1296'], ['movie_1721', 'movie_1296', 'movie_25', 'movie_1183'], ['movie_25', 'movie_1183', 'movie_2520', 'movie_923'], ['movie_2520', 'movie_923', 'movie_908', 'movie_1693'], ['movie_908', 'movie_1693', 'movie_1406', 'movie_1357'], ['movie_1406', 'movie_1357', 'movie_1041', 'movie_2313'], ['movie_1041', 'movie_2313', 'movie_1056', 'movie_307'], ['movie_1056', 'movie_307', 'movie_1228', 'movie_2329'], ['movie_1228', 'movie_2329', 'movie_2712', 'movie_302'], ['movie_2712', 'movie_302', 'movie_645', 'movie_1952'], ['movie_645', 'movie_1952', 'movie_1810', 'movie_971'], ['movie_1810', 'movie_971', 'movie_2020', 'movie_2125'], ['movie_2020', 'movie_2125', 'movie_926', 'movie_1392']]]\n"
     ]
    }
   ],
   "source": [
    "print(result.filter(pl.col(\"userId\")==\"user_1\")[\"sequence\"].to_list())\n"
   ]
  },
  {
   "cell_type": "code",
   "execution_count": null,
   "id": "45a3b538",
   "metadata": {},
   "outputs": [],
   "source": []
  }
 ],
 "metadata": {
  "kernelspec": {
   "display_name": ".venv",
   "language": "python",
   "name": "python3"
  },
  "language_info": {
   "codemirror_mode": {
    "name": "ipython",
    "version": 3
   },
   "file_extension": ".py",
   "mimetype": "text/x-python",
   "name": "python",
   "nbconvert_exporter": "python",
   "pygments_lexer": "ipython3",
   "version": "3.10.11"
  }
 },
 "nbformat": 4,
 "nbformat_minor": 5
}
