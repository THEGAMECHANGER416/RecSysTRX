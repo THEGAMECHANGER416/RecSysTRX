{
 "cells": [
  {
   "cell_type": "code",
   "execution_count": null,
   "id": "33edfe9c",
   "metadata": {},
   "outputs": [],
   "source": [
    "import numpy as np\n",
    "import polars as pl\n",
    "import torch\n",
    "from torch import nn, functional as F"
   ]
  },
  {
   "cell_type": "code",
   "execution_count": null,
   "id": "2bd844de",
   "metadata": {},
   "outputs": [],
   "source": [
    "from zipfile import ZipFile\n",
    "from urllib.request import urlretrieve\n",
    "import os\n",
    "\n",
    "urlretrieve(\"https://files.grouplens.org/datasets/movielens/ml-32m.zip\", \"../data/movielens.zip\")\n",
    "ZipFile(\"../data/movielens.zip\", \"r\").extractall('../data/')\n",
    "os.remove('../data/movielens.zip')\n"
   ]
  },
  {
   "cell_type": "code",
   "execution_count": 5,
   "id": "a1a7b37b",
   "metadata": {},
   "outputs": [],
   "source": [
    "urlretrieve(\"https://www.kaggle.com/api/v1/datasets/download/asaniczka/tmdb-movies-dataset-2023-930k-movies\", \"../data/tmdb.zip\")\n",
    "ZipFile(\"../data/tmdb.zip\", \"r\").extractall('../data/tmdb_dataset/')\n",
    "os.remove('../data/tmdb.zip')"
   ]
  },
  {
   "cell_type": "code",
   "execution_count": null,
   "id": "b177b4bb",
   "metadata": {},
   "outputs": [],
   "source": [
    "movies_df = pl.read_csv('../data/tmdb_dataset/TMDB_movie_dataset_v11.csv')\n",
    "ratings_df = pl.read_csv('../data/ml-32m/ratings.csv')\n",
    "links_df = pl.read_csv('../data/ml-32m/links.csv')"
   ]
  },
  {
   "cell_type": "code",
   "execution_count": 73,
   "id": "e61d3346",
   "metadata": {},
   "outputs": [
    {
     "data": {
      "text/html": [
       "<div><style>\n",
       ".dataframe > thead > tr,\n",
       ".dataframe > tbody > tr {\n",
       "  text-align: right;\n",
       "  white-space: pre-wrap;\n",
       "}\n",
       "</style>\n",
       "<small>shape: (5, 4)</small><table border=\"1\" class=\"dataframe\"><thead><tr><th>userId</th><th>movieId</th><th>rating</th><th>timestamp</th></tr><tr><td>i64</td><td>i64</td><td>f64</td><td>i64</td></tr></thead><tbody><tr><td>1</td><td>17</td><td>4.0</td><td>944249077</td></tr><tr><td>1</td><td>25</td><td>1.0</td><td>944250228</td></tr><tr><td>1</td><td>29</td><td>2.0</td><td>943230976</td></tr><tr><td>1</td><td>30</td><td>5.0</td><td>944249077</td></tr><tr><td>1</td><td>32</td><td>5.0</td><td>943228858</td></tr></tbody></table></div>"
      ],
      "text/plain": [
       "shape: (5, 4)\n",
       "┌────────┬─────────┬────────┬───────────┐\n",
       "│ userId ┆ movieId ┆ rating ┆ timestamp │\n",
       "│ ---    ┆ ---     ┆ ---    ┆ ---       │\n",
       "│ i64    ┆ i64     ┆ f64    ┆ i64       │\n",
       "╞════════╪═════════╪════════╪═══════════╡\n",
       "│ 1      ┆ 17      ┆ 4.0    ┆ 944249077 │\n",
       "│ 1      ┆ 25      ┆ 1.0    ┆ 944250228 │\n",
       "│ 1      ┆ 29      ┆ 2.0    ┆ 943230976 │\n",
       "│ 1      ┆ 30      ┆ 5.0    ┆ 944249077 │\n",
       "│ 1      ┆ 32      ┆ 5.0    ┆ 943228858 │\n",
       "└────────┴─────────┴────────┴───────────┘"
      ]
     },
     "execution_count": 73,
     "metadata": {},
     "output_type": "execute_result"
    }
   ],
   "source": [
    "ratings_df.head()"
   ]
  },
  {
   "cell_type": "code",
   "execution_count": 85,
   "id": "bc06e091",
   "metadata": {},
   "outputs": [
    {
     "data": {
      "text/html": [
       "<div><style>\n",
       ".dataframe > thead > tr,\n",
       ".dataframe > tbody > tr {\n",
       "  text-align: right;\n",
       "  white-space: pre-wrap;\n",
       "}\n",
       "</style>\n",
       "<small>shape: (5, 19)</small><table border=\"1\" class=\"dataframe\"><thead><tr><th>movieId</th><th>tmdbId</th><th>vote_average</th><th>vote_count</th><th>release_date</th><th>revenue</th><th>runtime</th><th>adult</th><th>budget</th><th>original_language</th><th>original_title</th><th>overview</th><th>popularity</th><th>tagline</th><th>genres</th><th>production_companies</th><th>production_countries</th><th>spoken_languages</th><th>keywords</th></tr><tr><td>i64</td><td>i64</td><td>f64</td><td>i64</td><td>str</td><td>i64</td><td>i64</td><td>bool</td><td>i64</td><td>str</td><td>str</td><td>str</td><td>f64</td><td>str</td><td>str</td><td>str</td><td>str</td><td>str</td><td>str</td></tr></thead><tbody><tr><td>79132</td><td>27205</td><td>8.364</td><td>34495</td><td>&quot;2010-07-15&quot;</td><td>825532764</td><td>148</td><td>false</td><td>160000000</td><td>&quot;en&quot;</td><td>&quot;Inception&quot;</td><td>&quot;Cobb, a skilled thief who comm…</td><td>83.952</td><td>&quot;Your mind is the scene of the …</td><td>&quot;Action, Science Fiction, Adven…</td><td>&quot;Legendary Pictures, Syncopy, W…</td><td>&quot;United Kingdom, United States …</td><td>&quot;English, French, Japanese, Swa…</td><td>&quot;rescue, mission, dream, airpla…</td></tr><tr><td>109487</td><td>157336</td><td>8.417</td><td>32571</td><td>&quot;2014-11-05&quot;</td><td>701729206</td><td>169</td><td>false</td><td>165000000</td><td>&quot;en&quot;</td><td>&quot;Interstellar&quot;</td><td>&quot;The adventures of a group of e…</td><td>140.241</td><td>&quot;Mankind was born on Earth. It …</td><td>&quot;Adventure, Drama, Science Fict…</td><td>&quot;Legendary Pictures, Syncopy, L…</td><td>&quot;United Kingdom, United States …</td><td>&quot;English&quot;</td><td>&quot;rescue, future, spacecraft, ra…</td></tr><tr><td>58559</td><td>155</td><td>8.512</td><td>30619</td><td>&quot;2008-07-16&quot;</td><td>1004558444</td><td>152</td><td>false</td><td>185000000</td><td>&quot;en&quot;</td><td>&quot;The Dark Knight&quot;</td><td>&quot;Batman raises the stakes in hi…</td><td>130.643</td><td>&quot;Welcome to a world without rul…</td><td>&quot;Drama, Action, Crime, Thriller&quot;</td><td>&quot;DC Comics, Legendary Pictures,…</td><td>&quot;United Kingdom, United States …</td><td>&quot;English, Mandarin&quot;</td><td>&quot;joker, sadism, chaos, secret i…</td></tr><tr><td>72998</td><td>19995</td><td>7.573</td><td>29815</td><td>&quot;2009-12-15&quot;</td><td>2923706026</td><td>162</td><td>false</td><td>237000000</td><td>&quot;en&quot;</td><td>&quot;Avatar&quot;</td><td>&quot;In the 22nd century, a paraple…</td><td>79.932</td><td>&quot;Enter the world of Pandora.&quot;</td><td>&quot;Action, Adventure, Fantasy, Sc…</td><td>&quot;Dune Entertainment, Lightstorm…</td><td>&quot;United States of America, Unit…</td><td>&quot;English, Spanish&quot;</td><td>&quot;future, society, culture clash…</td></tr><tr><td>89745</td><td>24428</td><td>7.71</td><td>29166</td><td>&quot;2012-04-25&quot;</td><td>1518815515</td><td>143</td><td>false</td><td>220000000</td><td>&quot;en&quot;</td><td>&quot;The Avengers&quot;</td><td>&quot;When an unexpected enemy emerg…</td><td>98.082</td><td>&quot;Some assembly required.&quot;</td><td>&quot;Science Fiction, Action, Adven…</td><td>&quot;Marvel Studios&quot;</td><td>&quot;United States of America&quot;</td><td>&quot;English, Hindi, Russian&quot;</td><td>&quot;new york city, superhero, shie…</td></tr></tbody></table></div>"
      ],
      "text/plain": [
       "shape: (5, 19)\n",
       "┌─────────┬────────┬────────────┬────────────┬───┬────────────┬────────────┬───────────┬───────────┐\n",
       "│ movieId ┆ tmdbId ┆ vote_avera ┆ vote_count ┆ … ┆ production ┆ production ┆ spoken_la ┆ keywords  │\n",
       "│ ---     ┆ ---    ┆ ge         ┆ ---        ┆   ┆ _companies ┆ _countries ┆ nguages   ┆ ---       │\n",
       "│ i64     ┆ i64    ┆ ---        ┆ i64        ┆   ┆ ---        ┆ ---        ┆ ---       ┆ str       │\n",
       "│         ┆        ┆ f64        ┆            ┆   ┆ str        ┆ str        ┆ str       ┆           │\n",
       "╞═════════╪════════╪════════════╪════════════╪═══╪════════════╪════════════╪═══════════╪═══════════╡\n",
       "│ 79132   ┆ 27205  ┆ 8.364      ┆ 34495      ┆ … ┆ Legendary  ┆ United     ┆ English,  ┆ rescue,   │\n",
       "│         ┆        ┆            ┆            ┆   ┆ Pictures,  ┆ Kingdom,   ┆ French,   ┆ mission,  │\n",
       "│         ┆        ┆            ┆            ┆   ┆ Syncopy,   ┆ United     ┆ Japanese, ┆ dream,    │\n",
       "│         ┆        ┆            ┆            ┆   ┆ W…         ┆ States …   ┆ Swa…      ┆ airpla…   │\n",
       "│ 109487  ┆ 157336 ┆ 8.417      ┆ 32571      ┆ … ┆ Legendary  ┆ United     ┆ English   ┆ rescue,   │\n",
       "│         ┆        ┆            ┆            ┆   ┆ Pictures,  ┆ Kingdom,   ┆           ┆ future,   │\n",
       "│         ┆        ┆            ┆            ┆   ┆ Syncopy,   ┆ United     ┆           ┆ spacecraf │\n",
       "│         ┆        ┆            ┆            ┆   ┆ L…         ┆ States …   ┆           ┆ t, ra…    │\n",
       "│ 58559   ┆ 155    ┆ 8.512      ┆ 30619      ┆ … ┆ DC Comics, ┆ United     ┆ English,  ┆ joker,    │\n",
       "│         ┆        ┆            ┆            ┆   ┆ Legendary  ┆ Kingdom,   ┆ Mandarin  ┆ sadism,   │\n",
       "│         ┆        ┆            ┆            ┆   ┆ Pictures,… ┆ United     ┆           ┆ chaos,    │\n",
       "│         ┆        ┆            ┆            ┆   ┆            ┆ States …   ┆           ┆ secret i… │\n",
       "│ 72998   ┆ 19995  ┆ 7.573      ┆ 29815      ┆ … ┆ Dune Enter ┆ United     ┆ English,  ┆ future,   │\n",
       "│         ┆        ┆            ┆            ┆   ┆ tainment,  ┆ States of  ┆ Spanish   ┆ society,  │\n",
       "│         ┆        ┆            ┆            ┆   ┆ Lightstorm ┆ America,   ┆           ┆ culture   │\n",
       "│         ┆        ┆            ┆            ┆   ┆ …          ┆ Unit…      ┆           ┆ clash…    │\n",
       "│ 89745   ┆ 24428  ┆ 7.71       ┆ 29166      ┆ … ┆ Marvel     ┆ United     ┆ English,  ┆ new york  │\n",
       "│         ┆        ┆            ┆            ┆   ┆ Studios    ┆ States of  ┆ Hindi,    ┆ city, sup │\n",
       "│         ┆        ┆            ┆            ┆   ┆            ┆ America    ┆ Russian   ┆ erhero,   │\n",
       "│         ┆        ┆            ┆            ┆   ┆            ┆            ┆           ┆ shie…     │\n",
       "└─────────┴────────┴────────────┴────────────┴───┴────────────┴────────────┴───────────┴───────────┘"
      ]
     },
     "execution_count": 85,
     "metadata": {},
     "output_type": "execute_result"
    }
   ],
   "source": [
    "movies_df = links_df.join(movies_df,left_on=\"tmdbId\",right_on=\"id\")\n",
    "movies_df = movies_df.drop([\"title\",\"status\",\"backdrop_path\",\"homepage\",\"imdb_id\",\"imdbId\",\"poster_path\"])\n",
    "movies_df.head()"
   ]
  },
  {
   "cell_type": "code",
   "execution_count": null,
   "id": "55467d4a",
   "metadata": {},
   "outputs": [
    {
     "name": "stdout",
     "output_type": "stream",
     "text": [
      "Number of genres:  39\n",
      "Number of production_companies:  56117\n",
      "Number of production_countries:  358\n",
      "Number of spoken_languages:  287\n",
      "Number of keywords:  33602\n"
     ]
    }
   ],
   "source": [
    "genres = movies_df['genres'].map_elements(lambda x: x.split(','),return_dtype=pl.List(pl.String)).explode().unique().to_list()\n",
    "print(\"Number of genres: \",len(genres))\n",
    "production_companies = movies_df['production_companies'].map_elements(lambda x: x.split(','),return_dtype=pl.List(pl.String)).explode().unique().to_list()\n",
    "print(\"Number of production_companies: \",len(production_companies))\n",
    "production_countries = movies_df['production_countries'].map_elements(lambda x: x.split(','),return_dtype=pl.List(pl.String)).explode().unique().to_list()\n",
    "print(\"Number of production_countries: \",len(production_countries))\n",
    "spoken_languages = movies_df['spoken_languages'].map_elements(lambda x: x.split(','),return_dtype=pl.List(pl.String)).explode().unique().to_list()\n",
    "print(\"Number of spoken_languages: \",len(spoken_languages))\n",
    "keywords = movies_df['keywords'].map_elements(lambda x: x.split(','),return_dtype=pl.List(pl.String)).explode().unique().to_list()\n",
    "print(\"Number of keywords: \",len(keywords))\n"
   ]
  },
  {
   "cell_type": "code",
   "execution_count": 87,
   "id": "233b7239",
   "metadata": {},
   "outputs": [],
   "source": [
    "# convert ids to categorical or string data type\n",
    "movies_df = movies_df.with_columns(\n",
    "    (pl.col(\"movieId\").cast(str)).map_elements(lambda x: f\"movie_{x}\",return_dtype=pl.String).alias(\"movieId\")\n",
    ")\n",
    "\n",
    "movies_df = movies_df.with_columns(\n",
    "    (pl.col(\"movieId\").cast(pl.Categorical))\n",
    ")\n",
    "\n",
    "ratings_df = ratings_df.with_columns([\n",
    "    (pl.col(\"movieId\").cast(str)).map_elements(lambda x: f\"movie_{x}\",return_dtype=pl.String).alias(\"movieId\"),\n",
    "    (pl.col(\"userId\").cast(str)).map_elements(lambda x: f\"user_{x}\",return_dtype=pl.String).alias(\"userId\"),\n",
    "])\n",
    "\n",
    "ratings_df = ratings_df.with_columns([\n",
    "    pl.col(\"movieId\").cast(pl.Categorical),\n",
    "    pl.col(\"userId\").cast(pl.Categorical),\n",
    "])"
   ]
  },
  {
   "cell_type": "code",
   "execution_count": 93,
   "id": "84d40352",
   "metadata": {},
   "outputs": [],
   "source": [
    "from collections import Counter\n",
    "from torchtext.vocab import vocab\n",
    "\n",
    "# vocab for movie_ids\n",
    "movie_ids = movies_df['movieId'].unique()\n",
    "movie_counter = Counter(movie_ids)\n",
    "movie_vocab = vocab(movie_counter, specials=['<unk>'])\n",
    "movie_vocab_stoi = movie_vocab.get_stoi()\n",
    "movie_title_dict = dict(zip(movies_df['movieId'].to_list(), movies_df['original_title'].to_list()))\n",
    "\n",
    "# vocab for user_ids\n",
    "user_ids = ratings_df['userId'].unique()\n",
    "user_counter = Counter(user_ids)\n",
    "user_vocab = vocab(user_counter, specials=['<unk>'])\n",
    "user_vocab_stoi = user_vocab.get_stoi()"
   ]
  },
  {
   "cell_type": "markdown",
   "id": "764d6a4d",
   "metadata": {},
   "source": [
    "### Using timestamp to generate sequences"
   ]
  },
  {
   "cell_type": "code",
   "execution_count": 97,
   "id": "c87d3263",
   "metadata": {},
   "outputs": [],
   "source": [
    "sequence_length = 25\n",
    "step_size = 5\n",
    "\n",
    "filtered_df = ratings_df.sort([\"userId\", \"timestamp\"])\n",
    "filtered_df = filtered_df.with_columns([\n",
    "    pl.col(\"userId\").cum_count().over(\"userId\").alias(\"idx\")\n",
    "])\n",
    "for i in range(sequence_length):\n",
    "    filtered_df = filtered_df.with_columns([\n",
    "        pl.col(\"movieId\").shift(-i).over(\"userId\").alias(f\"movie_{i}\"),\n",
    "        pl.col(\"rating\").shift(-i).over(\"userId\").alias(f\"rating_{i}\")\n",
    "    ])\n",
    "\n",
    "filtered_df = filtered_df.filter(pl.col(\"idx\") % step_size == 0)\n",
    "filtered_df = filtered_df.filter(\n",
    "    pl.fold(\n",
    "        acc=pl.lit(True),\n",
    "        function=lambda acc, x: acc & x.is_not_null(),\n",
    "        exprs=[pl.col(f\"movie_{i}\") for i in range(sequence_length)] +\n",
    "              [pl.col(f\"rating_{i}\") for i in range(sequence_length)]\n",
    "    )\n",
    ")\n",
    "filtered_df = filtered_df.with_columns([\n",
    "    pl.concat_list([pl.col(f\"movie_{i}\") for i in range(sequence_length)]).alias(\"sequence\"),\n",
    "    pl.concat_list([pl.col(f\"rating_{i}\") for i in range(sequence_length)]).alias(\"rating_sequence\")\n",
    "])\n",
    "result = filtered_df.select([\"userId\", \"sequence\", \"rating_sequence\"]).group_by(pl.col(\"userId\"),maintain_order=True).agg(pl.col(\"sequence\"),pl.col(\"rating_sequence\"))\n",
    "\n",
    "result = result.explode([\"sequence\", \"rating_sequence\"]).rename({\n",
    "    \"sequence\": \"sequence_movie_ids\",\n",
    "    \"rating_sequence\": \"sequence_ratings\"\n",
    "})"
   ]
  },
  {
   "cell_type": "code",
   "execution_count": 98,
   "id": "3bc81160",
   "metadata": {},
   "outputs": [
    {
     "data": {
      "text/html": [
       "<div><style>\n",
       ".dataframe > thead > tr,\n",
       ".dataframe > tbody > tr {\n",
       "  text-align: right;\n",
       "  white-space: pre-wrap;\n",
       "}\n",
       "</style>\n",
       "<small>shape: (5_372_430, 3)</small><table border=\"1\" class=\"dataframe\"><thead><tr><th>userId</th><th>sequence_movie_ids</th><th>sequence_ratings</th></tr><tr><td>cat</td><td>list[cat]</td><td>list[f64]</td></tr></thead><tbody><tr><td>&quot;user_1&quot;</td><td>[&quot;movie_2882&quot;, &quot;movie_541&quot;, … &quot;movie_2640&quot;]</td><td>[1.0, 5.0, … 5.0]</td></tr><tr><td>&quot;user_1&quot;</td><td>[&quot;movie_1236&quot;, &quot;movie_3030&quot;, … &quot;movie_1199&quot;]</td><td>[4.0, 4.0, … 2.0]</td></tr><tr><td>&quot;user_1&quot;</td><td>[&quot;movie_166&quot;, &quot;movie_232&quot;, … &quot;movie_110&quot;]</td><td>[5.0, 5.0, … 3.0]</td></tr><tr><td>&quot;user_1&quot;</td><td>[&quot;movie_2352&quot;, &quot;movie_2724&quot;, … &quot;movie_1262&quot;]</td><td>[3.0, 1.0, … 4.0]</td></tr><tr><td>&quot;user_1&quot;</td><td>[&quot;movie_2336&quot;, &quot;movie_260&quot;, … &quot;movie_161&quot;]</td><td>[5.0, 5.0, … 1.0]</td></tr><tr><td>&hellip;</td><td>&hellip;</td><td>&hellip;</td></tr><tr><td>&quot;user_200948&quot;</td><td>[&quot;movie_7458&quot;, &quot;movie_6534&quot;, … &quot;movie_46970&quot;]</td><td>[4.5, 0.5, … 3.5]</td></tr><tr><td>&quot;user_200948&quot;</td><td>[&quot;movie_6863&quot;, &quot;movie_49286&quot;, … &quot;movie_57538&quot;]</td><td>[4.0, 4.0, … 3.5]</td></tr><tr><td>&quot;user_200948&quot;</td><td>[&quot;movie_54999&quot;, &quot;movie_1059&quot;, … &quot;movie_5171&quot;]</td><td>[2.0, 4.0, … 2.0]</td></tr><tr><td>&quot;user_200948&quot;</td><td>[&quot;movie_53974&quot;, &quot;movie_53993&quot;, … &quot;movie_80350&quot;]</td><td>[1.0, 2.0, … 0.5]</td></tr><tr><td>&quot;user_200948&quot;</td><td>[&quot;movie_33836&quot;, &quot;movie_8641&quot;, … &quot;movie_80463&quot;]</td><td>[2.0, 4.0, … 3.5]</td></tr></tbody></table></div>"
      ],
      "text/plain": [
       "shape: (5_372_430, 3)\n",
       "┌─────────────┬─────────────────────────────────┬───────────────────┐\n",
       "│ userId      ┆ sequence_movie_ids              ┆ sequence_ratings  │\n",
       "│ ---         ┆ ---                             ┆ ---               │\n",
       "│ cat         ┆ list[cat]                       ┆ list[f64]         │\n",
       "╞═════════════╪═════════════════════════════════╪═══════════════════╡\n",
       "│ user_1      ┆ [\"movie_2882\", \"movie_541\", … … ┆ [1.0, 5.0, … 5.0] │\n",
       "│ user_1      ┆ [\"movie_1236\", \"movie_3030\", …… ┆ [4.0, 4.0, … 2.0] │\n",
       "│ user_1      ┆ [\"movie_166\", \"movie_232\", … \"… ┆ [5.0, 5.0, … 3.0] │\n",
       "│ user_1      ┆ [\"movie_2352\", \"movie_2724\", …… ┆ [3.0, 1.0, … 4.0] │\n",
       "│ user_1      ┆ [\"movie_2336\", \"movie_260\", … … ┆ [5.0, 5.0, … 1.0] │\n",
       "│ …           ┆ …                               ┆ …                 │\n",
       "│ user_200948 ┆ [\"movie_7458\", \"movie_6534\", …… ┆ [4.5, 0.5, … 3.5] │\n",
       "│ user_200948 ┆ [\"movie_6863\", \"movie_49286\", … ┆ [4.0, 4.0, … 3.5] │\n",
       "│ user_200948 ┆ [\"movie_54999\", \"movie_1059\", … ┆ [2.0, 4.0, … 2.0] │\n",
       "│ user_200948 ┆ [\"movie_53974\", \"movie_53993\",… ┆ [1.0, 2.0, … 0.5] │\n",
       "│ user_200948 ┆ [\"movie_33836\", \"movie_8641\", … ┆ [2.0, 4.0, … 3.5] │\n",
       "└─────────────┴─────────────────────────────────┴───────────────────┘"
      ]
     },
     "execution_count": 98,
     "metadata": {},
     "output_type": "execute_result"
    }
   ],
   "source": [
    "result"
   ]
  },
  {
   "cell_type": "markdown",
   "id": "a20a5c7e",
   "metadata": {},
   "source": [
    "### Train Test Split"
   ]
  },
  {
   "cell_type": "code",
   "execution_count": 104,
   "id": "45a3b538",
   "metadata": {},
   "outputs": [],
   "source": [
    "random_selection = np.random.rand(len(result)) <= 0.85\n",
    "\n",
    "df_train_data = result.filter(random_selection)\n",
    "train_data_raw = df_train_data[[\"userId\", \"sequence_movie_ids\", \"sequence_ratings\"]].to_numpy()\n",
    "\n",
    "df_test_data = result.filter(~random_selection)\n",
    "test_data_raw = df_test_data[[\"userId\", \"sequence_movie_ids\", \"sequence_ratings\"]].to_numpy()"
   ]
  },
  {
   "cell_type": "markdown",
   "id": "96be957c",
   "metadata": {},
   "source": [
    "### Creating DataLoaders"
   ]
  },
  {
   "cell_type": "code",
   "execution_count": 109,
   "id": "174d25d6",
   "metadata": {},
   "outputs": [],
   "source": [
    "from torch.utils.data import Dataset, DataLoader\n",
    "from torch.nn.utils.rnn import pad_sequence\n",
    "\n",
    "class MovieSeqDataset(Dataset):\n",
    "    def __init__(self, data, movie_vocab_stoi, user_vocab_stoi):\n",
    "        self.data = data\n",
    "        self.movie_vocab_stoi = movie_vocab_stoi\n",
    "        self.user_vocab_stoi = user_vocab_stoi\n",
    "    \n",
    "    def __len__(self):\n",
    "        return len(self.data)\n",
    "    \n",
    "    def __getitem__(self, idx):\n",
    "        user, movie_sequence, rating_sequence = self.data[idx]\n",
    "        movie_data = [self.movie_vocab_stoi.get(item,movie_vocab_stoi['<unk>']) for item in movie_sequence]\n",
    "        user_data = self.user_vocab_stoi[user]\n",
    "        return torch.tensor(movie_data), torch.tensor(user_data), torch.tensor(rating_sequence)\n",
    "    \n",
    "def collate_batch(batch):\n",
    "    movie_list = [item[0] for item in batch]\n",
    "    user_list = [item[1] for item in batch]\n",
    "    rating_list = [item[2] for item in batch]\n",
    "    return pad_sequence(movie_list, padding_value=movie_vocab_stoi['<unk>'], batch_first=True), torch.stack(user_list), pad_sequence(rating_list, padding_value=3, batch_first=True)"
   ]
  },
  {
   "cell_type": "code",
   "execution_count": 110,
   "id": "c5f624af",
   "metadata": {},
   "outputs": [],
   "source": [
    "BATCH_SIZE = 16\n",
    "\n",
    "train_dataset = MovieSeqDataset(train_data_raw, movie_vocab_stoi, user_vocab_stoi)\n",
    "val_dataset = MovieSeqDataset(test_data_raw, movie_vocab_stoi, user_vocab_stoi)\n",
    "\n",
    "train_iter = DataLoader(train_dataset, batch_size=BATCH_SIZE,shuffle=True, collate_fn=collate_batch)\n",
    "val_iter = DataLoader(val_dataset, batch_size=BATCH_SIZE,shuffle=False, collate_fn=collate_batch)"
   ]
  },
  {
   "cell_type": "code",
   "execution_count": 118,
   "id": "fe87b861",
   "metadata": {},
   "outputs": [
    {
     "name": "stdout",
     "output_type": "stream",
     "text": [
      "torch.Size([16, 25]) torch.Size([16]) torch.Size([16, 25])\n"
     ]
    }
   ],
   "source": [
    "for i, (movie_data, user_data, ratings_data) in enumerate(train_iter):\n",
    "    print(movie_data.shape, user_data.shape, ratings_data.shape)\n",
    "    break"
   ]
  },
  {
   "cell_type": "code",
   "execution_count": null,
   "id": "25cba590",
   "metadata": {},
   "outputs": [],
   "source": []
  }
 ],
 "metadata": {
  "kernelspec": {
   "display_name": ".venv",
   "language": "python",
   "name": "python3"
  },
  "language_info": {
   "codemirror_mode": {
    "name": "ipython",
    "version": 3
   },
   "file_extension": ".py",
   "mimetype": "text/x-python",
   "name": "python",
   "nbconvert_exporter": "python",
   "pygments_lexer": "ipython3",
   "version": "3.10.11"
  }
 },
 "nbformat": 4,
 "nbformat_minor": 5
}
