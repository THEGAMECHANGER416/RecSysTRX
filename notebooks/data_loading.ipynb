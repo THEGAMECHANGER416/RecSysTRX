{
 "cells": [
  {
   "cell_type": "code",
   "execution_count": 7,
   "id": "33edfe9c",
   "metadata": {},
   "outputs": [],
   "source": [
    "import numpy as np\n",
    "import polars as pd\n",
    "import torch\n",
    "from torch import nn, functional as F"
   ]
  },
  {
   "cell_type": "code",
   "execution_count": null,
   "id": "2bd844de",
   "metadata": {},
   "outputs": [],
   "source": [
    "from zipfile import ZipFile\n",
    "from urllib.request import urlretrieve\n",
    "import os\n",
    "\n",
    "urlretrieve(\"https://files.grouplens.org/datasets/movielens/ml-32m.zip\", \"../data/movielens.zip\")\n",
    "ZipFile(\"../data/movielens.zip\", \"r\").extractall('../data/')\n",
    "os.remove('../data/movielens.zip')\n"
   ]
  },
  {
   "cell_type": "code",
   "execution_count": 5,
   "id": "a1a7b37b",
   "metadata": {},
   "outputs": [],
   "source": [
    "urlretrieve(\"https://www.kaggle.com/api/v1/datasets/download/asaniczka/tmdb-movies-dataset-2023-930k-movies\", \"../data/tmdb.zip\")\n",
    "ZipFile(\"../data/tmdb.zip\", \"r\").extractall('../data/tmdb_dataset/')\n",
    "os.remove('../data/tmdb.zip')"
   ]
  },
  {
   "cell_type": "code",
   "execution_count": 8,
   "id": "b177b4bb",
   "metadata": {},
   "outputs": [],
   "source": [
    "movies_df = pd.read_csv('../data/tmdb_dataset/TMDB_movie_dataset_v11.csv')\n",
    "ratings_df = pd.read_csv('../data/ml-32m/ratings.csv')\n",
    "links_df = pd.read_csv('../data/ml-32m/links.csv')"
   ]
  },
  {
   "cell_type": "code",
   "execution_count": 9,
   "id": "bc06e091",
   "metadata": {},
   "outputs": [
    {
     "data": {
      "text/html": [
       "<div><style>\n",
       ".dataframe > thead > tr,\n",
       ".dataframe > tbody > tr {\n",
       "  text-align: right;\n",
       "  white-space: pre-wrap;\n",
       "}\n",
       "</style>\n",
       "<small>shape: (5, 19)</small><table border=\"1\" class=\"dataframe\"><thead><tr><th>movieId</th><th>tmdbId</th><th>vote_average</th><th>vote_count</th><th>release_date</th><th>revenue</th><th>runtime</th><th>adult</th><th>budget</th><th>original_language</th><th>original_title</th><th>overview</th><th>popularity</th><th>tagline</th><th>genres</th><th>production_companies</th><th>production_countries</th><th>spoken_languages</th><th>keywords</th></tr><tr><td>i64</td><td>i64</td><td>f64</td><td>i64</td><td>str</td><td>i64</td><td>i64</td><td>bool</td><td>i64</td><td>str</td><td>str</td><td>str</td><td>f64</td><td>str</td><td>str</td><td>str</td><td>str</td><td>str</td><td>str</td></tr></thead><tbody><tr><td>79132</td><td>27205</td><td>8.364</td><td>34495</td><td>&quot;2010-07-15&quot;</td><td>825532764</td><td>148</td><td>false</td><td>160000000</td><td>&quot;en&quot;</td><td>&quot;Inception&quot;</td><td>&quot;Cobb, a skilled thief who comm…</td><td>83.952</td><td>&quot;Your mind is the scene of the …</td><td>&quot;Action, Science Fiction, Adven…</td><td>&quot;Legendary Pictures, Syncopy, W…</td><td>&quot;United Kingdom, United States …</td><td>&quot;English, French, Japanese, Swa…</td><td>&quot;rescue, mission, dream, airpla…</td></tr><tr><td>109487</td><td>157336</td><td>8.417</td><td>32571</td><td>&quot;2014-11-05&quot;</td><td>701729206</td><td>169</td><td>false</td><td>165000000</td><td>&quot;en&quot;</td><td>&quot;Interstellar&quot;</td><td>&quot;The adventures of a group of e…</td><td>140.241</td><td>&quot;Mankind was born on Earth. It …</td><td>&quot;Adventure, Drama, Science Fict…</td><td>&quot;Legendary Pictures, Syncopy, L…</td><td>&quot;United Kingdom, United States …</td><td>&quot;English&quot;</td><td>&quot;rescue, future, spacecraft, ra…</td></tr><tr><td>58559</td><td>155</td><td>8.512</td><td>30619</td><td>&quot;2008-07-16&quot;</td><td>1004558444</td><td>152</td><td>false</td><td>185000000</td><td>&quot;en&quot;</td><td>&quot;The Dark Knight&quot;</td><td>&quot;Batman raises the stakes in hi…</td><td>130.643</td><td>&quot;Welcome to a world without rul…</td><td>&quot;Drama, Action, Crime, Thriller&quot;</td><td>&quot;DC Comics, Legendary Pictures,…</td><td>&quot;United Kingdom, United States …</td><td>&quot;English, Mandarin&quot;</td><td>&quot;joker, sadism, chaos, secret i…</td></tr><tr><td>72998</td><td>19995</td><td>7.573</td><td>29815</td><td>&quot;2009-12-15&quot;</td><td>2923706026</td><td>162</td><td>false</td><td>237000000</td><td>&quot;en&quot;</td><td>&quot;Avatar&quot;</td><td>&quot;In the 22nd century, a paraple…</td><td>79.932</td><td>&quot;Enter the world of Pandora.&quot;</td><td>&quot;Action, Adventure, Fantasy, Sc…</td><td>&quot;Dune Entertainment, Lightstorm…</td><td>&quot;United States of America, Unit…</td><td>&quot;English, Spanish&quot;</td><td>&quot;future, society, culture clash…</td></tr><tr><td>89745</td><td>24428</td><td>7.71</td><td>29166</td><td>&quot;2012-04-25&quot;</td><td>1518815515</td><td>143</td><td>false</td><td>220000000</td><td>&quot;en&quot;</td><td>&quot;The Avengers&quot;</td><td>&quot;When an unexpected enemy emerg…</td><td>98.082</td><td>&quot;Some assembly required.&quot;</td><td>&quot;Science Fiction, Action, Adven…</td><td>&quot;Marvel Studios&quot;</td><td>&quot;United States of America&quot;</td><td>&quot;English, Hindi, Russian&quot;</td><td>&quot;new york city, superhero, shie…</td></tr></tbody></table></div>"
      ],
      "text/plain": [
       "shape: (5, 19)\n",
       "┌─────────┬────────┬────────────┬────────────┬───┬────────────┬────────────┬───────────┬───────────┐\n",
       "│ movieId ┆ tmdbId ┆ vote_avera ┆ vote_count ┆ … ┆ production ┆ production ┆ spoken_la ┆ keywords  │\n",
       "│ ---     ┆ ---    ┆ ge         ┆ ---        ┆   ┆ _companies ┆ _countries ┆ nguages   ┆ ---       │\n",
       "│ i64     ┆ i64    ┆ ---        ┆ i64        ┆   ┆ ---        ┆ ---        ┆ ---       ┆ str       │\n",
       "│         ┆        ┆ f64        ┆            ┆   ┆ str        ┆ str        ┆ str       ┆           │\n",
       "╞═════════╪════════╪════════════╪════════════╪═══╪════════════╪════════════╪═══════════╪═══════════╡\n",
       "│ 79132   ┆ 27205  ┆ 8.364      ┆ 34495      ┆ … ┆ Legendary  ┆ United     ┆ English,  ┆ rescue,   │\n",
       "│         ┆        ┆            ┆            ┆   ┆ Pictures,  ┆ Kingdom,   ┆ French,   ┆ mission,  │\n",
       "│         ┆        ┆            ┆            ┆   ┆ Syncopy,   ┆ United     ┆ Japanese, ┆ dream,    │\n",
       "│         ┆        ┆            ┆            ┆   ┆ W…         ┆ States …   ┆ Swa…      ┆ airpla…   │\n",
       "│ 109487  ┆ 157336 ┆ 8.417      ┆ 32571      ┆ … ┆ Legendary  ┆ United     ┆ English   ┆ rescue,   │\n",
       "│         ┆        ┆            ┆            ┆   ┆ Pictures,  ┆ Kingdom,   ┆           ┆ future,   │\n",
       "│         ┆        ┆            ┆            ┆   ┆ Syncopy,   ┆ United     ┆           ┆ spacecraf │\n",
       "│         ┆        ┆            ┆            ┆   ┆ L…         ┆ States …   ┆           ┆ t, ra…    │\n",
       "│ 58559   ┆ 155    ┆ 8.512      ┆ 30619      ┆ … ┆ DC Comics, ┆ United     ┆ English,  ┆ joker,    │\n",
       "│         ┆        ┆            ┆            ┆   ┆ Legendary  ┆ Kingdom,   ┆ Mandarin  ┆ sadism,   │\n",
       "│         ┆        ┆            ┆            ┆   ┆ Pictures,… ┆ United     ┆           ┆ chaos,    │\n",
       "│         ┆        ┆            ┆            ┆   ┆            ┆ States …   ┆           ┆ secret i… │\n",
       "│ 72998   ┆ 19995  ┆ 7.573      ┆ 29815      ┆ … ┆ Dune Enter ┆ United     ┆ English,  ┆ future,   │\n",
       "│         ┆        ┆            ┆            ┆   ┆ tainment,  ┆ States of  ┆ Spanish   ┆ society,  │\n",
       "│         ┆        ┆            ┆            ┆   ┆ Lightstorm ┆ America,   ┆           ┆ culture   │\n",
       "│         ┆        ┆            ┆            ┆   ┆ …          ┆ Unit…      ┆           ┆ clash…    │\n",
       "│ 89745   ┆ 24428  ┆ 7.71       ┆ 29166      ┆ … ┆ Marvel     ┆ United     ┆ English,  ┆ new york  │\n",
       "│         ┆        ┆            ┆            ┆   ┆ Studios    ┆ States of  ┆ Hindi,    ┆ city, sup │\n",
       "│         ┆        ┆            ┆            ┆   ┆            ┆ America    ┆ Russian   ┆ erhero,   │\n",
       "│         ┆        ┆            ┆            ┆   ┆            ┆            ┆           ┆ shie…     │\n",
       "└─────────┴────────┴────────────┴────────────┴───┴────────────┴────────────┴───────────┴───────────┘"
      ]
     },
     "execution_count": 9,
     "metadata": {},
     "output_type": "execute_result"
    }
   ],
   "source": [
    "movies_df = links_df.join(movies_df,left_on=\"tmdbId\",right_on=\"id\")\n",
    "movies_df = movies_df.drop([\"title\",\"status\",\"backdrop_path\",\"homepage\",\"imdb_id\",\"imdbId\",\"poster_path\"])\n",
    "movies_df.head()"
   ]
  },
  {
   "cell_type": "code",
   "execution_count": 10,
   "id": "55467d4a",
   "metadata": {},
   "outputs": [
    {
     "name": "stdout",
     "output_type": "stream",
     "text": [
      "Number of genres:  39\n",
      "Number of production_companies:  56117\n",
      "Number of production_countries:  358\n",
      "Number of spoken_languages:  287\n",
      "Number of keywords:  33602\n"
     ]
    }
   ],
   "source": [
    "genres = movies_df['genres'].map_elements(lambda x: x.split(','),return_dtype=pd.List(pd.String)).explode().unique().to_list()\n",
    "print(\"Number of genres: \",len(genres))\n",
    "production_companies = movies_df['production_companies'].map_elements(lambda x: x.split(','),return_dtype=pd.List(pd.String)).explode().unique().to_list()\n",
    "print(\"Number of production_companies: \",len(production_companies))\n",
    "production_countries = movies_df['production_countries'].map_elements(lambda x: x.split(','),return_dtype=pd.List(pd.String)).explode().unique().to_list()\n",
    "print(\"Number of production_countries: \",len(production_countries))\n",
    "spoken_languages = movies_df['spoken_languages'].map_elements(lambda x: x.split(','),return_dtype=pd.List(pd.String)).explode().unique().to_list()\n",
    "print(\"Number of spoken_languages: \",len(spoken_languages))\n",
    "keywords = movies_df['keywords'].map_elements(lambda x: x.split(','),return_dtype=pd.List(pd.String)).explode().unique().to_list()\n",
    "print(\"Number of keywords: \",len(keywords))\n"
   ]
  },
  {
   "cell_type": "code",
   "execution_count": null,
   "id": "233b7239",
   "metadata": {},
   "outputs": [
    {
     "data": {
      "text/plain": [
       "39"
      ]
     },
     "execution_count": 74,
     "metadata": {},
     "output_type": "execute_result"
    }
   ],
   "source": []
  },
  {
   "cell_type": "code",
   "execution_count": null,
   "id": "84d40352",
   "metadata": {},
   "outputs": [],
   "source": []
  }
 ],
 "metadata": {
  "kernelspec": {
   "display_name": ".venv",
   "language": "python",
   "name": "python3"
  },
  "language_info": {
   "codemirror_mode": {
    "name": "ipython",
    "version": 3
   },
   "file_extension": ".py",
   "mimetype": "text/x-python",
   "name": "python",
   "nbconvert_exporter": "python",
   "pygments_lexer": "ipython3",
   "version": "3.10.11"
  }
 },
 "nbformat": 4,
 "nbformat_minor": 5
}
