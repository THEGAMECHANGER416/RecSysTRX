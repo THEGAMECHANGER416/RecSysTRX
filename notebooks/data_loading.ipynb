{
 "cells": [
  {
   "cell_type": "markdown",
   "id": "0133931c",
   "metadata": {},
   "source": [
    "### Loading Libraries"
   ]
  },
  {
   "cell_type": "code",
   "execution_count": 3,
   "id": "33edfe9c",
   "metadata": {},
   "outputs": [],
   "source": [
    "import numpy as np\n",
    "import polars as pl\n",
    "import torch\n",
    "from torch import nn, functional as F"
   ]
  },
  {
   "cell_type": "markdown",
   "id": "ede1a6f0",
   "metadata": {},
   "source": [
    "### Getting Datasets"
   ]
  },
  {
   "cell_type": "code",
   "execution_count": null,
   "id": "2bd844de",
   "metadata": {},
   "outputs": [],
   "source": [
    "from zipfile import ZipFile\n",
    "from urllib.request import urlretrieve\n",
    "import os\n",
    "\n",
    "urlretrieve(\"https://files.grouplens.org/datasets/movielens/ml-32m.zip\", \"../data/movielens.zip\")\n",
    "ZipFile(\"../data/movielens.zip\", \"r\").extractall('../data/')\n",
    "os.remove('../data/movielens.zip')\n",
    "\n",
    "urlretrieve(\"https://www.kaggle.com/api/v1/datasets/download/asaniczka/tmdb-movies-dataset-2023-930k-movies\", \"../data/tmdb.zip\")\n",
    "ZipFile(\"../data/tmdb.zip\", \"r\").extractall('../data/tmdb_dataset/')\n",
    "os.remove('../data/tmdb.zip')"
   ]
  },
  {
   "cell_type": "code",
   "execution_count": 4,
   "id": "b177b4bb",
   "metadata": {},
   "outputs": [],
   "source": [
    "movies_df = pl.read_csv('../data/tmdb_dataset/TMDB_movie_dataset_v11.csv')\n",
    "ratings_df = pl.read_csv('../data/ml-32m/ratings.csv')\n",
    "links_df = pl.read_csv('../data/ml-32m/links.csv')"
   ]
  },
  {
   "cell_type": "code",
   "execution_count": 5,
   "id": "d6a87785",
   "metadata": {},
   "outputs": [
    {
     "name": "stdout",
     "output_type": "stream",
     "text": [
      "movies_df: Schema([('id', Int64), ('title', String), ('vote_average', Float64), ('vote_count', Int64), ('status', String), ('release_date', String), ('revenue', Int64), ('runtime', Int64), ('adult', Boolean), ('backdrop_path', String), ('budget', Int64), ('homepage', String), ('imdb_id', String), ('original_language', String), ('original_title', String), ('overview', String), ('popularity', Float64), ('poster_path', String), ('tagline', String), ('genres', String), ('production_companies', String), ('production_countries', String), ('spoken_languages', String), ('keywords', String)])\n",
      "ratings_df: Schema([('userId', Int64), ('movieId', Int64), ('rating', Float64), ('timestamp', Int64)])\n",
      "links_df: Schema([('movieId', Int64), ('imdbId', Int64), ('tmdbId', Int64)])\n"
     ]
    }
   ],
   "source": [
    "print(\"movies_df:\",movies_df.schema)\n",
    "print(\"ratings_df:\",ratings_df.schema)\n",
    "print(\"links_df:\",links_df.schema)"
   ]
  },
  {
   "cell_type": "code",
   "execution_count": 6,
   "id": "bc06e091",
   "metadata": {},
   "outputs": [
    {
     "data": {
      "text/html": [
       "<div><style>\n",
       ".dataframe > thead > tr,\n",
       ".dataframe > tbody > tr {\n",
       "  text-align: right;\n",
       "  white-space: pre-wrap;\n",
       "}\n",
       "</style>\n",
       "<small>shape: (5, 19)</small><table border=\"1\" class=\"dataframe\"><thead><tr><th>movieId</th><th>tmdbId</th><th>vote_average</th><th>vote_count</th><th>release_date</th><th>revenue</th><th>runtime</th><th>adult</th><th>budget</th><th>original_language</th><th>original_title</th><th>overview</th><th>popularity</th><th>tagline</th><th>genres</th><th>production_companies</th><th>production_countries</th><th>spoken_languages</th><th>keywords</th></tr><tr><td>i64</td><td>i64</td><td>f64</td><td>i64</td><td>str</td><td>i64</td><td>i64</td><td>bool</td><td>i64</td><td>str</td><td>str</td><td>str</td><td>f64</td><td>str</td><td>str</td><td>str</td><td>str</td><td>str</td><td>str</td></tr></thead><tbody><tr><td>79132</td><td>27205</td><td>8.364</td><td>34495</td><td>&quot;2010-07-15&quot;</td><td>825532764</td><td>148</td><td>false</td><td>160000000</td><td>&quot;en&quot;</td><td>&quot;Inception&quot;</td><td>&quot;Cobb, a skilled thief who comm…</td><td>83.952</td><td>&quot;Your mind is the scene of the …</td><td>&quot;Action, Science Fiction, Adven…</td><td>&quot;Legendary Pictures, Syncopy, W…</td><td>&quot;United Kingdom, United States …</td><td>&quot;English, French, Japanese, Swa…</td><td>&quot;rescue, mission, dream, airpla…</td></tr><tr><td>109487</td><td>157336</td><td>8.417</td><td>32571</td><td>&quot;2014-11-05&quot;</td><td>701729206</td><td>169</td><td>false</td><td>165000000</td><td>&quot;en&quot;</td><td>&quot;Interstellar&quot;</td><td>&quot;The adventures of a group of e…</td><td>140.241</td><td>&quot;Mankind was born on Earth. It …</td><td>&quot;Adventure, Drama, Science Fict…</td><td>&quot;Legendary Pictures, Syncopy, L…</td><td>&quot;United Kingdom, United States …</td><td>&quot;English&quot;</td><td>&quot;rescue, future, spacecraft, ra…</td></tr><tr><td>58559</td><td>155</td><td>8.512</td><td>30619</td><td>&quot;2008-07-16&quot;</td><td>1004558444</td><td>152</td><td>false</td><td>185000000</td><td>&quot;en&quot;</td><td>&quot;The Dark Knight&quot;</td><td>&quot;Batman raises the stakes in hi…</td><td>130.643</td><td>&quot;Welcome to a world without rul…</td><td>&quot;Drama, Action, Crime, Thriller&quot;</td><td>&quot;DC Comics, Legendary Pictures,…</td><td>&quot;United Kingdom, United States …</td><td>&quot;English, Mandarin&quot;</td><td>&quot;joker, sadism, chaos, secret i…</td></tr><tr><td>72998</td><td>19995</td><td>7.573</td><td>29815</td><td>&quot;2009-12-15&quot;</td><td>2923706026</td><td>162</td><td>false</td><td>237000000</td><td>&quot;en&quot;</td><td>&quot;Avatar&quot;</td><td>&quot;In the 22nd century, a paraple…</td><td>79.932</td><td>&quot;Enter the world of Pandora.&quot;</td><td>&quot;Action, Adventure, Fantasy, Sc…</td><td>&quot;Dune Entertainment, Lightstorm…</td><td>&quot;United States of America, Unit…</td><td>&quot;English, Spanish&quot;</td><td>&quot;future, society, culture clash…</td></tr><tr><td>89745</td><td>24428</td><td>7.71</td><td>29166</td><td>&quot;2012-04-25&quot;</td><td>1518815515</td><td>143</td><td>false</td><td>220000000</td><td>&quot;en&quot;</td><td>&quot;The Avengers&quot;</td><td>&quot;When an unexpected enemy emerg…</td><td>98.082</td><td>&quot;Some assembly required.&quot;</td><td>&quot;Science Fiction, Action, Adven…</td><td>&quot;Marvel Studios&quot;</td><td>&quot;United States of America&quot;</td><td>&quot;English, Hindi, Russian&quot;</td><td>&quot;new york city, superhero, shie…</td></tr></tbody></table></div>"
      ],
      "text/plain": [
       "shape: (5, 19)\n",
       "┌─────────┬────────┬────────────┬────────────┬───┬────────────┬────────────┬───────────┬───────────┐\n",
       "│ movieId ┆ tmdbId ┆ vote_avera ┆ vote_count ┆ … ┆ production ┆ production ┆ spoken_la ┆ keywords  │\n",
       "│ ---     ┆ ---    ┆ ge         ┆ ---        ┆   ┆ _companies ┆ _countries ┆ nguages   ┆ ---       │\n",
       "│ i64     ┆ i64    ┆ ---        ┆ i64        ┆   ┆ ---        ┆ ---        ┆ ---       ┆ str       │\n",
       "│         ┆        ┆ f64        ┆            ┆   ┆ str        ┆ str        ┆ str       ┆           │\n",
       "╞═════════╪════════╪════════════╪════════════╪═══╪════════════╪════════════╪═══════════╪═══════════╡\n",
       "│ 79132   ┆ 27205  ┆ 8.364      ┆ 34495      ┆ … ┆ Legendary  ┆ United     ┆ English,  ┆ rescue,   │\n",
       "│         ┆        ┆            ┆            ┆   ┆ Pictures,  ┆ Kingdom,   ┆ French,   ┆ mission,  │\n",
       "│         ┆        ┆            ┆            ┆   ┆ Syncopy,   ┆ United     ┆ Japanese, ┆ dream,    │\n",
       "│         ┆        ┆            ┆            ┆   ┆ W…         ┆ States …   ┆ Swa…      ┆ airpla…   │\n",
       "│ 109487  ┆ 157336 ┆ 8.417      ┆ 32571      ┆ … ┆ Legendary  ┆ United     ┆ English   ┆ rescue,   │\n",
       "│         ┆        ┆            ┆            ┆   ┆ Pictures,  ┆ Kingdom,   ┆           ┆ future,   │\n",
       "│         ┆        ┆            ┆            ┆   ┆ Syncopy,   ┆ United     ┆           ┆ spacecraf │\n",
       "│         ┆        ┆            ┆            ┆   ┆ L…         ┆ States …   ┆           ┆ t, ra…    │\n",
       "│ 58559   ┆ 155    ┆ 8.512      ┆ 30619      ┆ … ┆ DC Comics, ┆ United     ┆ English,  ┆ joker,    │\n",
       "│         ┆        ┆            ┆            ┆   ┆ Legendary  ┆ Kingdom,   ┆ Mandarin  ┆ sadism,   │\n",
       "│         ┆        ┆            ┆            ┆   ┆ Pictures,… ┆ United     ┆           ┆ chaos,    │\n",
       "│         ┆        ┆            ┆            ┆   ┆            ┆ States …   ┆           ┆ secret i… │\n",
       "│ 72998   ┆ 19995  ┆ 7.573      ┆ 29815      ┆ … ┆ Dune Enter ┆ United     ┆ English,  ┆ future,   │\n",
       "│         ┆        ┆            ┆            ┆   ┆ tainment,  ┆ States of  ┆ Spanish   ┆ society,  │\n",
       "│         ┆        ┆            ┆            ┆   ┆ Lightstorm ┆ America,   ┆           ┆ culture   │\n",
       "│         ┆        ┆            ┆            ┆   ┆ …          ┆ Unit…      ┆           ┆ clash…    │\n",
       "│ 89745   ┆ 24428  ┆ 7.71       ┆ 29166      ┆ … ┆ Marvel     ┆ United     ┆ English,  ┆ new york  │\n",
       "│         ┆        ┆            ┆            ┆   ┆ Studios    ┆ States of  ┆ Hindi,    ┆ city, sup │\n",
       "│         ┆        ┆            ┆            ┆   ┆            ┆ America    ┆ Russian   ┆ erhero,   │\n",
       "│         ┆        ┆            ┆            ┆   ┆            ┆            ┆           ┆ shie…     │\n",
       "└─────────┴────────┴────────────┴────────────┴───┴────────────┴────────────┴───────────┴───────────┘"
      ]
     },
     "execution_count": 6,
     "metadata": {},
     "output_type": "execute_result"
    }
   ],
   "source": [
    "movies_df = links_df.join(movies_df,left_on=\"tmdbId\",right_on=\"id\")\n",
    "movies_df = movies_df.drop([\"title\",\"status\",\"backdrop_path\",\"homepage\",\"imdb_id\",\"imdbId\",\"poster_path\"])\n",
    "movies_df.head()"
   ]
  },
  {
   "cell_type": "code",
   "execution_count": 7,
   "id": "233b7239",
   "metadata": {},
   "outputs": [],
   "source": [
    "# convert ids to categorical or string data type\n",
    "movies_df = movies_df.with_columns([\n",
    "    (pl.col(\"movieId\").cast(str)).map_elements(lambda x: f\"movie_{x}\",return_dtype=pl.String).alias(\"movieId\"),\n",
    "    (pl.col(\"revenue\")/100000),\n",
    "    (pl.col(\"budget\")/100000)\n",
    "])\n",
    "\n",
    "ratings_df = ratings_df.with_columns([\n",
    "    (pl.col(\"movieId\").cast(str)).map_elements(lambda x: f\"movie_{x}\",return_dtype=pl.String).alias(\"movieId\"),\n",
    "    (pl.col(\"userId\").cast(str)).map_elements(lambda x: f\"user_{x}\",return_dtype=pl.String).alias(\"userId\"),\n",
    "])"
   ]
  },
  {
   "cell_type": "markdown",
   "id": "5cbabfc4",
   "metadata": {},
   "source": [
    "### Building vocab"
   ]
  },
  {
   "cell_type": "code",
   "execution_count": 8,
   "id": "84d40352",
   "metadata": {},
   "outputs": [
    {
     "name": "stderr",
     "output_type": "stream",
     "text": [
      "c:\\Users\\arnav\\Documents\\VSCodeProjects\\RecSysTRX\\RecSysTRX\\.venv\\lib\\site-packages\\torchtext\\vocab\\__init__.py:4: UserWarning: \n",
      "/!\\ IMPORTANT WARNING ABOUT TORCHTEXT STATUS /!\\ \n",
      "Torchtext is deprecated and the last released version will be 0.18 (this one). You can silence this warning by calling the following at the beginnign of your scripts: `import torchtext; torchtext.disable_torchtext_deprecation_warning()`\n",
      "  warnings.warn(torchtext._TORCHTEXT_DEPRECATION_MSG)\n",
      "c:\\Users\\arnav\\Documents\\VSCodeProjects\\RecSysTRX\\RecSysTRX\\.venv\\lib\\site-packages\\torchtext\\utils.py:4: UserWarning: \n",
      "/!\\ IMPORTANT WARNING ABOUT TORCHTEXT STATUS /!\\ \n",
      "Torchtext is deprecated and the last released version will be 0.18 (this one). You can silence this warning by calling the following at the beginnign of your scripts: `import torchtext; torchtext.disable_torchtext_deprecation_warning()`\n",
      "  warnings.warn(torchtext._TORCHTEXT_DEPRECATION_MSG)\n"
     ]
    }
   ],
   "source": [
    "from collections import Counter\n",
    "from torchtext.vocab import vocab\n",
    "\n",
    "# vocab for movie_ids\n",
    "movie_ids = movies_df['movieId'].unique()\n",
    "movie_counter = Counter(movie_ids)\n",
    "movie_vocab = vocab(movie_counter, specials=['<unk>'])\n",
    "movie_vocab_stoi = movie_vocab.get_stoi()\n",
    "movie_title_dict = dict(zip(movies_df['movieId'].to_list(), movies_df['original_title'].to_list()))\n",
    "\n",
    "# vocab for user_ids\n",
    "user_ids = ratings_df['userId'].unique()\n",
    "user_counter = Counter(user_ids)\n",
    "user_vocab = vocab(user_counter, specials=['<unk>'])\n",
    "user_vocab_stoi = user_vocab.get_stoi()\n",
    "\n",
    "# vocab for genres\n",
    "movies_df = movies_df.with_columns(pl.col('genres').map_elements(lambda x: [s.strip() for s in x.split(',')],return_dtype=pl.List(pl.String)))\n",
    "genres_counter = Counter(movies_df['genres'].explode().unique())\n",
    "genres_vocab = vocab(genres_counter, specials=['<unk>'])\n",
    "genres_vocab_stoi = genres_vocab.get_stoi()\n",
    "genres_vocab_itos = genres_vocab.get_itos()\n",
    "\n",
    "# vocab for production companies\n",
    "movies_df = movies_df.with_columns(pl.col('production_companies').map_elements(lambda x: [s.strip() for s in x.split(',')],return_dtype=pl.List(pl.String)))\n",
    "prod_comp_counter = Counter(movies_df['production_companies'].explode().unique())\n",
    "prod_comp_vocab = vocab(prod_comp_counter, specials=['<unk>'])\n",
    "prod_comp_vocab_stoi = prod_comp_vocab.get_stoi()\n",
    "prod_comp_vocab_itos = prod_comp_vocab.get_itos()\n",
    "\n",
    "# vocab for production countries\n",
    "movies_df = movies_df.with_columns(pl.col('production_countries').map_elements(lambda x: [s.strip() for s in x.split(',')],return_dtype=pl.List(pl.String)))\n",
    "prod_countries_counter = Counter(movies_df['production_countries'].explode().unique())\n",
    "prod_countries_vocab = vocab(prod_countries_counter, specials=['<unk>'])\n",
    "prod_countries_vocab_stoi = prod_countries_vocab.get_stoi()\n",
    "prod_countries_vocab_itos = prod_countries_vocab.get_itos()\n",
    "\n",
    "# vocab for spoken languages\n",
    "movies_df = movies_df.with_columns(pl.col('spoken_languages').map_elements(lambda x: [s.strip() for s in x.split(',')],return_dtype=pl.List(pl.String)))\n",
    "languages_counter = Counter(movies_df['spoken_languages'].explode().unique())\n",
    "languages_vocab = vocab(languages_counter, specials=['<unk>'])\n",
    "languages_vocab_stoi = languages_vocab.get_stoi()\n",
    "languages_vocab_itos = languages_vocab.get_itos()\n",
    "\n",
    "# vocab for words\n",
    "movies_df = movies_df.with_columns([\n",
    "    pl.col('keywords').map_elements(lambda x: [s.strip() for s in x.split(',')],return_dtype=pl.List(pl.String)),\n",
    "    pl.col('overview').map_elements(lambda x: [s.strip() for s in x.split(' ')],return_dtype=pl.List(pl.String)),\n",
    "    pl.col('tagline').map_elements(lambda x: [s.strip() for s in x.split(' ')],return_dtype=pl.List(pl.String))\n",
    "])\n",
    "\n",
    "words_counter = Counter(set(movies_df['keywords'].explode().unique().to_list() + movies_df['overview'].explode().unique().to_list() + movies_df['tagline'].explode().unique().to_list()))\n",
    "words_vocab = vocab(words_counter, specials=['<unk>'])\n",
    "words_vocab_stoi = words_vocab.get_stoi()\n",
    "words_vocab_itos = words_vocab.get_itos()"
   ]
  },
  {
   "cell_type": "code",
   "execution_count": 9,
   "id": "b6bc13d8",
   "metadata": {},
   "outputs": [
    {
     "name": "stdout",
     "output_type": "stream",
     "text": [
      "Number of user:  200949\n",
      "Number of movies:  86494\n",
      "Number of genres:  21\n",
      "Number of production_companies:  45546\n",
      "Number of production_countries:  201\n",
      "Number of spoken_languages:  164\n",
      "Number of words:  270246\n"
     ]
    }
   ],
   "source": [
    "print(\"Number of user: \",len(user_vocab))\n",
    "print(\"Number of movies: \",len(movie_vocab))\n",
    "print(\"Number of genres: \",len(genres_vocab))\n",
    "print(\"Number of production_companies: \",len(prod_comp_vocab))\n",
    "print(\"Number of production_countries: \",len(prod_countries_vocab))\n",
    "print(\"Number of spoken_languages: \",len(languages_vocab))\n",
    "print(\"Number of words: \",len(words_vocab))"
   ]
  },
  {
   "cell_type": "code",
   "execution_count": 15,
   "id": "0ae92796",
   "metadata": {},
   "outputs": [],
   "source": [
    "import json\n",
    "\n",
    "vocab_dict = {\n",
    "    \"user_vocab\": user_vocab,\n",
    "    \"user_vocab_stoi\": user_vocab_stoi,\n",
    "    \"movie_vocab\": movie_vocab,\n",
    "    \"movie_vocab_stoi\": movie_vocab_stoi,\n",
    "    \"genres_vocab\": genres_vocab,\n",
    "    \"genres_vocab_stoi\": genres_vocab_stoi,\n",
    "    \"genres_vocab_itos\": genres_vocab_itos,\n",
    "    \"prod_comp_vocab\": prod_comp_vocab,\n",
    "    \"prod_comp_vocab_stoi\": prod_comp_vocab_stoi,\n",
    "    \"prod_comp_vocab_itos\": prod_comp_vocab_itos,\n",
    "    \"prod_countries_vocab\": prod_countries_vocab,\n",
    "    \"prod_countries_vocab_stoi\": prod_countries_vocab_stoi,\n",
    "    \"prod_countries_vocab_itos\": prod_countries_vocab_itos,\n",
    "    \"languages_vocab\": languages_vocab,\n",
    "    \"languages_vocab_stoi\": languages_vocab_stoi,\n",
    "    \"languages_vocab_itos\": languages_vocab_itos,\n",
    "    \"words_vocab\": words_vocab,\n",
    "    \"words_vocab_stoi\": words_vocab_stoi,\n",
    "    \"words_vocab_itos\": words_vocab_itos\n",
    "}\n",
    "\n",
    "torch.save(vocab_dict, '../data/all_vocabs.pth')"
   ]
  },
  {
   "cell_type": "markdown",
   "id": "764d6a4d",
   "metadata": {},
   "source": [
    "### Using timestamp to generate sequences"
   ]
  },
  {
   "cell_type": "code",
   "execution_count": 8,
   "id": "c87d3263",
   "metadata": {},
   "outputs": [],
   "source": [
    "sequence_length = 5\n",
    "step_size = 2\n",
    "\n",
    "ratings_df = ratings_df.sort([\"userId\", \"timestamp\"])\n",
    "ratings_df = ratings_df.with_columns([\n",
    "    pl.col(\"userId\").cum_count().over(\"userId\").alias(\"idx\")\n",
    "])\n",
    "for i in range(sequence_length):\n",
    "    ratings_df = ratings_df.with_columns([\n",
    "        pl.col(\"movieId\").shift(-i).over(\"userId\").alias(f\"movie_{i}\"),\n",
    "        pl.col(\"rating\").shift(-i).over(\"userId\").alias(f\"rating_{i}\")\n",
    "    ])\n",
    "\n",
    "ratings_df = ratings_df.filter(pl.col(\"idx\") % step_size == 0)\n",
    "ratings_df = ratings_df.filter(\n",
    "    pl.fold(\n",
    "        acc=pl.lit(True),\n",
    "        function=lambda acc, x: acc & x.is_not_null(),\n",
    "        exprs=[pl.col(f\"movie_{i}\") for i in range(sequence_length)] +\n",
    "              [pl.col(f\"rating_{i}\") for i in range(sequence_length)]\n",
    "    )\n",
    ")\n",
    "ratings_df = ratings_df.with_columns([\n",
    "    pl.concat_list([pl.col(f\"movie_{i}\") for i in range(sequence_length)]).alias(\"sequence\"),\n",
    "    pl.concat_list([pl.col(f\"rating_{i}\") for i in range(sequence_length)]).alias(\"rating_sequence\")\n",
    "])\n",
    "ratings_df = ratings_df.select([\"userId\", \"sequence\", \"rating_sequence\"]).group_by(pl.col(\"userId\"),maintain_order=True).agg(pl.col(\"sequence\"),pl.col(\"rating_sequence\"))\n",
    "\n",
    "ratings_df = ratings_df.explode([\"sequence\", \"rating_sequence\"]).rename({\n",
    "    \"sequence\": \"sequence_movie_ids\",\n",
    "    \"rating_sequence\": \"sequence_ratings\"\n",
    "})"
   ]
  },
  {
   "cell_type": "code",
   "execution_count": 9,
   "id": "3bc81160",
   "metadata": {},
   "outputs": [
    {
     "data": {
      "text/html": [
       "<div><style>\n",
       ".dataframe > thead > tr,\n",
       ".dataframe > tbody > tr {\n",
       "  text-align: right;\n",
       "  white-space: pre-wrap;\n",
       "}\n",
       "</style>\n",
       "<small>shape: (15_548_983, 3)</small><table border=\"1\" class=\"dataframe\"><thead><tr><th>userId</th><th>sequence_movie_ids</th><th>sequence_ratings</th></tr><tr><td>str</td><td>list[str]</td><td>list[f64]</td></tr></thead><tbody><tr><td>&quot;user_1&quot;</td><td>[&quot;movie_2966&quot;, &quot;movie_2890&quot;, … &quot;movie_541&quot;]</td><td>[1.0, 4.0, … 5.0]</td></tr><tr><td>&quot;user_1&quot;</td><td>[&quot;movie_3078&quot;, &quot;movie_2882&quot;, … &quot;movie_1136&quot;]</td><td>[2.0, 1.0, … 1.0]</td></tr><tr><td>&quot;user_1&quot;</td><td>[&quot;movie_541&quot;, &quot;movie_838&quot;, … &quot;movie_1211&quot;]</td><td>[5.0, 5.0, … 2.0]</td></tr><tr><td>&quot;user_1&quot;</td><td>[&quot;movie_1136&quot;, &quot;movie_1236&quot;, … &quot;movie_2396&quot;]</td><td>[1.0, 4.0, … 5.0]</td></tr><tr><td>&quot;user_1&quot;</td><td>[&quot;movie_1211&quot;, &quot;movie_3030&quot;, … &quot;movie_232&quot;]</td><td>[2.0, 4.0, … 5.0]</td></tr><tr><td>&hellip;</td><td>&hellip;</td><td>&hellip;</td></tr><tr><td>&quot;user_99999&quot;</td><td>[&quot;movie_3864&quot;, &quot;movie_7842&quot;, … &quot;movie_4733&quot;]</td><td>[3.5, 2.5, … 2.5]</td></tr><tr><td>&quot;user_99999&quot;</td><td>[&quot;movie_53894&quot;, &quot;movie_42738&quot;, … &quot;movie_53953&quot;]</td><td>[4.5, 3.0, … 3.0]</td></tr><tr><td>&quot;user_99999&quot;</td><td>[&quot;movie_4733&quot;, &quot;movie_4030&quot;, … &quot;movie_55820&quot;]</td><td>[2.5, 3.0, … 4.5]</td></tr><tr><td>&quot;user_99999&quot;</td><td>[&quot;movie_53953&quot;, &quot;movie_63113&quot;, … &quot;movie_8131&quot;]</td><td>[3.0, 4.0, … 4.5]</td></tr><tr><td>&quot;user_99999&quot;</td><td>[&quot;movie_55820&quot;, &quot;movie_64716&quot;, … &quot;movie_64614&quot;]</td><td>[4.5, 4.0, … 4.5]</td></tr></tbody></table></div>"
      ],
      "text/plain": [
       "shape: (15_548_983, 3)\n",
       "┌────────────┬─────────────────────────────────┬───────────────────┐\n",
       "│ userId     ┆ sequence_movie_ids              ┆ sequence_ratings  │\n",
       "│ ---        ┆ ---                             ┆ ---               │\n",
       "│ str        ┆ list[str]                       ┆ list[f64]         │\n",
       "╞════════════╪═════════════════════════════════╪═══════════════════╡\n",
       "│ user_1     ┆ [\"movie_2966\", \"movie_2890\", …… ┆ [1.0, 4.0, … 5.0] │\n",
       "│ user_1     ┆ [\"movie_3078\", \"movie_2882\", …… ┆ [2.0, 1.0, … 1.0] │\n",
       "│ user_1     ┆ [\"movie_541\", \"movie_838\", … \"… ┆ [5.0, 5.0, … 2.0] │\n",
       "│ user_1     ┆ [\"movie_1136\", \"movie_1236\", …… ┆ [1.0, 4.0, … 5.0] │\n",
       "│ user_1     ┆ [\"movie_1211\", \"movie_3030\", …… ┆ [2.0, 4.0, … 5.0] │\n",
       "│ …          ┆ …                               ┆ …                 │\n",
       "│ user_99999 ┆ [\"movie_3864\", \"movie_7842\", …… ┆ [3.5, 2.5, … 2.5] │\n",
       "│ user_99999 ┆ [\"movie_53894\", \"movie_42738\",… ┆ [4.5, 3.0, … 3.0] │\n",
       "│ user_99999 ┆ [\"movie_4733\", \"movie_4030\", …… ┆ [2.5, 3.0, … 4.5] │\n",
       "│ user_99999 ┆ [\"movie_53953\", \"movie_63113\",… ┆ [3.0, 4.0, … 4.5] │\n",
       "│ user_99999 ┆ [\"movie_55820\", \"movie_64716\",… ┆ [4.5, 4.0, … 4.5] │\n",
       "└────────────┴─────────────────────────────────┴───────────────────┘"
      ]
     },
     "execution_count": 9,
     "metadata": {},
     "output_type": "execute_result"
    }
   ],
   "source": [
    "ratings_df"
   ]
  },
  {
   "cell_type": "markdown",
   "id": "a20a5c7e",
   "metadata": {},
   "source": [
    "### Train Test Split"
   ]
  },
  {
   "cell_type": "code",
   "execution_count": 10,
   "id": "45a3b538",
   "metadata": {},
   "outputs": [],
   "source": [
    "random_selection = np.random.rand(len(ratings_df)) <= 0.85\n",
    "\n",
    "df_train_data = ratings_df.filter(random_selection)\n",
    "train_data_raw = df_train_data[[\"userId\", \"sequence_movie_ids\", \"sequence_ratings\"]].write_parquet('../data/processed/train.parquet')\n",
    "\n",
    "df_test_data = ratings_df.filter(~random_selection)\n",
    "test_data_raw = df_test_data[[\"userId\", \"sequence_movie_ids\", \"sequence_ratings\"]].write_parquet('../data/processed/test.parquet')"
   ]
  },
  {
   "cell_type": "markdown",
   "id": "f2f188a7",
   "metadata": {},
   "source": [
    "### Movie Data Processing"
   ]
  },
  {
   "cell_type": "code",
   "execution_count": 14,
   "id": "25cba590",
   "metadata": {},
   "outputs": [],
   "source": [
    "from polars import col, List, Int64\n",
    "\n",
    "def list_to_idx(c, stoi):\n",
    "    unk = stoi.get(\"<unk>\", -1)\n",
    "    return c.map_elements(lambda lst: [stoi.get(x, unk) for x in lst],\n",
    "                          return_dtype=List(Int64))\n",
    "\n",
    "movies_df = movies_df.with_columns([\n",
    "    list_to_idx(col(\"genres\"), genres_vocab_stoi).alias(\"genres_idx\"),\n",
    "    list_to_idx(col(\"production_companies\"), prod_comp_vocab_stoi).alias(\"production_companies_idx\"),\n",
    "    list_to_idx(col(\"production_countries\"), prod_countries_vocab_stoi).alias(\"production_countries_idx\"),\n",
    "    list_to_idx(col(\"spoken_languages\"), languages_vocab_stoi).alias(\"spoken_languages_idx\"),\n",
    "    list_to_idx(col(\"keywords\"), words_vocab_stoi).alias(\"keywords_idx\"),\n",
    "    list_to_idx(col(\"overview\"), words_vocab_stoi).alias(\"overview_idx\"),\n",
    "    list_to_idx(col(\"tagline\"), words_vocab_stoi).alias(\"tagline_idx\"),\n",
    "])\n"
   ]
  },
  {
   "cell_type": "code",
   "execution_count": 15,
   "id": "61b5a303",
   "metadata": {},
   "outputs": [],
   "source": [
    "unk_mid = movie_vocab_stoi.get(\"<unk>\", -1)\n",
    "movies_df = movies_df.with_columns(\n",
    "    col(\"movieId\")\n",
    "      .map_elements(lambda x: movie_vocab_stoi.get(x, unk_mid), return_dtype=Int64)\n",
    "      .alias(\"movieId_idx\")\n",
    ")\n",
    "\n",
    "movies_df = movies_df.with_columns(\n",
    "    col(\"adult\").cast(Int64).alias(\"adult_idx\")\n",
    ")\n",
    "\n",
    "movies_df = movies_df.with_columns([\n",
    "    col(\"vote_average\").cast(pl.Float64),\n",
    "    col(\"vote_count\").cast(pl.Int64),\n",
    "    col(\"revenue\").cast(pl.Float64),\n",
    "    col(\"runtime\").cast(pl.Int64),\n",
    "    col(\"budget\").cast(pl.Float64),\n",
    "    col(\"popularity\").cast(pl.Float64),\n",
    "])\n"
   ]
  },
  {
   "cell_type": "code",
   "execution_count": 16,
   "id": "9da55577",
   "metadata": {},
   "outputs": [
    {
     "data": {
      "text/html": [
       "<div><style>\n",
       ".dataframe > thead > tr,\n",
       ".dataframe > tbody > tr {\n",
       "  text-align: right;\n",
       "  white-space: pre-wrap;\n",
       "}\n",
       "</style>\n",
       "<small>shape: (5, 15)</small><table border=\"1\" class=\"dataframe\"><thead><tr><th>movieId_idx</th><th>genres_idx</th><th>production_companies_idx</th><th>production_countries_idx</th><th>spoken_languages_idx</th><th>keywords_idx</th><th>overview_idx</th><th>tagline_idx</th><th>adult_idx</th><th>vote_average</th><th>vote_count</th><th>revenue</th><th>runtime</th><th>budget</th><th>popularity</th></tr><tr><td>i64</td><td>list[i64]</td><td>list[i64]</td><td>list[i64]</td><td>list[i64]</td><td>list[i64]</td><td>list[i64]</td><td>list[i64]</td><td>i64</td><td>f64</td><td>i64</td><td>f64</td><td>i64</td><td>f64</td><td>f64</td></tr></thead><tbody><tr><td>29614</td><td>[9, 12, 1]</td><td>[5787, 10790, 33238]</td><td>[199, 179]</td><td>[6, 23, … 47]</td><td>[16308, 175809, … 82866]</td><td>[176485, 24219, … 12348]</td><td>[214081, 63727, … 55301]</td><td>0</td><td>8.364</td><td>34495</td><td>8255.32764</td><td>148</td><td>1600.0</td><td>83.952</td></tr><tr><td>80519</td><td>[1, 11, 12]</td><td>[5787, 10790, 35714]</td><td>[199, 179]</td><td>[6]</td><td>[16308, 1132, … 40124]</td><td>[215000, 121766, … 102636]</td><td>[110576, 6885, … 185993]</td><td>0</td><td>8.417</td><td>32571</td><td>7017.29206</td><td>169</td><td>1650.0</td><td>140.241</td></tr><tr><td>85229</td><td>[11, 9, … 19]</td><td>[44053, 5787, … 33238]</td><td>[199, 179]</td><td>[6, 33]</td><td>[142986, 130477, … 14454]</td><td>[55779, 228235, … 182677]</td><td>[60902, 185742, … 237355]</td><td>0</td><td>8.512</td><td>30619</td><td>10045.58444</td><td>152</td><td>1850.0</td><td>130.643</td></tr><tr><td>21860</td><td>[9, 1, … 12]</td><td>[36521, 35640, … 26713]</td><td>[179, 199]</td><td>[6, 55]</td><td>[1132, 83662, … 270158]</td><td>[74820, 120691, … 142952]</td><td>[40244, 120691, … 256189]</td><td>0</td><td>7.573</td><td>29815</td><td>29237.06026</td><td>162</td><td>2370.0</td><td>79.932</td></tr><tr><td>66960</td><td>[12, 9, 1]</td><td>[1580]</td><td>[179]</td><td>[6, 26, 102]</td><td>[134773, 31791, … 253130]</td><td>[122342, 75589, … 153921]</td><td>[201371, 91008, 99106]</td><td>0</td><td>7.71</td><td>29166</td><td>15188.15515</td><td>143</td><td>2200.0</td><td>98.082</td></tr></tbody></table></div>"
      ],
      "text/plain": [
       "shape: (5, 15)\n",
       "┌────────────┬────────────┬────────────┬────────────┬───┬───────────┬─────────┬────────┬───────────┐\n",
       "│ movieId_id ┆ genres_idx ┆ production ┆ production ┆ … ┆ revenue   ┆ runtime ┆ budget ┆ popularit │\n",
       "│ x          ┆ ---        ┆ _companies ┆ _countries ┆   ┆ ---       ┆ ---     ┆ ---    ┆ y         │\n",
       "│ ---        ┆ list[i64]  ┆ _idx       ┆ _idx       ┆   ┆ f64       ┆ i64     ┆ f64    ┆ ---       │\n",
       "│ i64        ┆            ┆ ---        ┆ ---        ┆   ┆           ┆         ┆        ┆ f64       │\n",
       "│            ┆            ┆ list[i64]  ┆ list[i64]  ┆   ┆           ┆         ┆        ┆           │\n",
       "╞════════════╪════════════╪════════════╪════════════╪═══╪═══════════╪═════════╪════════╪═══════════╡\n",
       "│ 29614      ┆ [9, 12, 1] ┆ [5787,     ┆ [199, 179] ┆ … ┆ 8255.3276 ┆ 148     ┆ 1600.0 ┆ 83.952    │\n",
       "│            ┆            ┆ 10790,     ┆            ┆   ┆ 4         ┆         ┆        ┆           │\n",
       "│            ┆            ┆ 33238]     ┆            ┆   ┆           ┆         ┆        ┆           │\n",
       "│ 80519      ┆ [1, 11,    ┆ [5787,     ┆ [199, 179] ┆ … ┆ 7017.2920 ┆ 169     ┆ 1650.0 ┆ 140.241   │\n",
       "│            ┆ 12]        ┆ 10790,     ┆            ┆   ┆ 6         ┆         ┆        ┆           │\n",
       "│            ┆            ┆ 35714]     ┆            ┆   ┆           ┆         ┆        ┆           │\n",
       "│ 85229      ┆ [11, 9, …  ┆ [44053,    ┆ [199, 179] ┆ … ┆ 10045.584 ┆ 152     ┆ 1850.0 ┆ 130.643   │\n",
       "│            ┆ 19]        ┆ 5787, …    ┆            ┆   ┆ 44        ┆         ┆        ┆           │\n",
       "│            ┆            ┆ 33238]     ┆            ┆   ┆           ┆         ┆        ┆           │\n",
       "│ 21860      ┆ [9, 1, …   ┆ [36521,    ┆ [179, 199] ┆ … ┆ 29237.060 ┆ 162     ┆ 2370.0 ┆ 79.932    │\n",
       "│            ┆ 12]        ┆ 35640, …   ┆            ┆   ┆ 26        ┆         ┆        ┆           │\n",
       "│            ┆            ┆ 26713]     ┆            ┆   ┆           ┆         ┆        ┆           │\n",
       "│ 66960      ┆ [12, 9, 1] ┆ [1580]     ┆ [179]      ┆ … ┆ 15188.155 ┆ 143     ┆ 2200.0 ┆ 98.082    │\n",
       "│            ┆            ┆            ┆            ┆   ┆ 15        ┆         ┆        ┆           │\n",
       "└────────────┴────────────┴────────────┴────────────┴───┴───────────┴─────────┴────────┴───────────┘"
      ]
     },
     "execution_count": 16,
     "metadata": {},
     "output_type": "execute_result"
    }
   ],
   "source": [
    "movies_prepped = movies_df.select([\n",
    "    \"movieId_idx\",\n",
    "    \"genres_idx\",\n",
    "    \"production_companies_idx\",\n",
    "    \"production_countries_idx\",\n",
    "    \"spoken_languages_idx\",\n",
    "    \"keywords_idx\",\n",
    "    \"overview_idx\",\n",
    "    \"tagline_idx\",\n",
    "    \"adult_idx\",\n",
    "    \"vote_average\", \n",
    "    \"vote_count\",\n",
    "    \"revenue\",\n",
    "    \"runtime\",\n",
    "    \"budget\",\n",
    "    \"popularity\",\n",
    "])\n",
    "\n",
    "movies_prepped.head()"
   ]
  },
  {
   "cell_type": "code",
   "execution_count": 137,
   "id": "1b23d7b3",
   "metadata": {},
   "outputs": [],
   "source": [
    "\n",
    "movies_prepped.write_parquet('../data/processed/output.parquet')"
   ]
  }
 ],
 "metadata": {
  "kernelspec": {
   "display_name": ".venv",
   "language": "python",
   "name": "python3"
  },
  "language_info": {
   "codemirror_mode": {
    "name": "ipython",
    "version": 3
   },
   "file_extension": ".py",
   "mimetype": "text/x-python",
   "name": "python",
   "nbconvert_exporter": "python",
   "pygments_lexer": "ipython3",
   "version": "3.10.11"
  }
 },
 "nbformat": 4,
 "nbformat_minor": 5
}
